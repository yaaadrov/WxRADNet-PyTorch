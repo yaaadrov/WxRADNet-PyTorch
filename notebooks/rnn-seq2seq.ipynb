{
 "cells": [
  {
   "cell_type": "markdown",
   "id": "76e63335",
   "metadata": {
    "papermill": {
     "duration": 0.010602,
     "end_time": "2024-08-23T15:13:03.662822",
     "exception": false,
     "start_time": "2024-08-23T15:13:03.652220",
     "status": "completed"
    },
    "tags": []
   },
   "source": [
    "# Simple RNN Seq2Seq"
   ]
  },
  {
   "cell_type": "code",
   "execution_count": 1,
   "id": "70c101d1",
   "metadata": {
    "execution": {
     "iopub.execute_input": "2024-08-23T15:13:03.685490Z",
     "iopub.status.busy": "2024-08-23T15:13:03.685061Z",
     "iopub.status.idle": "2024-08-23T15:13:08.927233Z",
     "shell.execute_reply": "2024-08-23T15:13:08.926256Z"
    },
    "papermill": {
     "duration": 5.25557,
     "end_time": "2024-08-23T15:13:08.929646",
     "exception": false,
     "start_time": "2024-08-23T15:13:03.674076",
     "status": "completed"
    },
    "tags": []
   },
   "outputs": [],
   "source": [
    "import os\n",
    "import numpy as np\n",
    "import datetime\n",
    "import time\n",
    "\n",
    "import torch\n",
    "import torch.nn as nn\n",
    "\n",
    "import torch.nn.functional as F\n",
    "import torch.optim as optim\n",
    "from torch.utils.data import Dataset, DataLoader\n",
    "from torch.optim.lr_scheduler import ReduceLROnPlateau\n",
    "from torch.cuda.amp import GradScaler, autocast\n",
    "from torch.autograd import Variable\n",
    "\n",
    "import matplotlib.pyplot as plt\n",
    "from matplotlib.pyplot import subplots\n",
    "import seaborn as sns\n",
    "plt.style.use('/kaggle/input/sonia-mplstyle/sonia.mplstyle')\n",
    "%config InlineBackend.figure_format = 'retina'\n",
    "%matplotlib inline\n",
    "\n",
    "PATH = '/kaggle/input/thunderstorm-data/data/'"
   ]
  },
  {
   "cell_type": "code",
   "execution_count": 2,
   "id": "997bf484",
   "metadata": {
    "execution": {
     "iopub.execute_input": "2024-08-23T15:13:08.951040Z",
     "iopub.status.busy": "2024-08-23T15:13:08.950591Z",
     "iopub.status.idle": "2024-08-23T15:13:09.011491Z",
     "shell.execute_reply": "2024-08-23T15:13:09.010438Z"
    },
    "papermill": {
     "duration": 0.073651,
     "end_time": "2024-08-23T15:13:09.013430",
     "exception": false,
     "start_time": "2024-08-23T15:13:08.939779",
     "status": "completed"
    },
    "tags": []
   },
   "outputs": [
    {
     "name": "stdout",
     "output_type": "stream",
     "text": [
      "True\n"
     ]
    }
   ],
   "source": [
    "print(torch.cuda.is_available())\n",
    "device = torch.device('cuda' if torch.cuda.is_available() else 'cpu')"
   ]
  },
  {
   "cell_type": "markdown",
   "id": "52dbcdd7",
   "metadata": {
    "papermill": {
     "duration": 0.009973,
     "end_time": "2024-08-23T15:13:09.033347",
     "exception": false,
     "start_time": "2024-08-23T15:13:09.023374",
     "status": "completed"
    },
    "tags": []
   },
   "source": [
    "## 1. Get the Data"
   ]
  },
  {
   "cell_type": "code",
   "execution_count": 3,
   "id": "d408d6bd",
   "metadata": {
    "execution": {
     "iopub.execute_input": "2024-08-23T15:13:09.054434Z",
     "iopub.status.busy": "2024-08-23T15:13:09.054086Z",
     "iopub.status.idle": "2024-08-23T15:13:09.062985Z",
     "shell.execute_reply": "2024-08-23T15:13:09.062024Z"
    },
    "papermill": {
     "duration": 0.021979,
     "end_time": "2024-08-23T15:13:09.065033",
     "exception": false,
     "start_time": "2024-08-23T15:13:09.043054",
     "status": "completed"
    },
    "tags": []
   },
   "outputs": [],
   "source": [
    "class ThunderstormDataset(Dataset):\n",
    "    def __init__(self, file_paths):\n",
    "        self.file_paths = file_paths\n",
    "        self.dataset_sizes = [np.load(file_path, mmap_mode='r').shape[0] for file_path in file_paths]\n",
    "        self.cumulative_sizes = np.cumsum(self.dataset_sizes)\n",
    "        self.total_size = self.cumulative_sizes[-1]\n",
    "\n",
    "    def __len__(self):\n",
    "        return self.total_size\n",
    "\n",
    "    def __getitem__(self, idx):\n",
    "        # Find which file this idx belongs to\n",
    "        file_idx = np.searchsorted(self.cumulative_sizes, idx, side='right')\n",
    "        if file_idx == 0:\n",
    "            within_file_idx = idx\n",
    "        else:\n",
    "            within_file_idx = idx - self.cumulative_sizes[file_idx - 1]\n",
    "        \n",
    "        file_path = self.file_paths[file_idx]\n",
    "        data = np.load(file_path, mmap_mode='r')\n",
    "        item = data[within_file_idx]\n",
    "        \n",
    "        inputs = torch.tensor(item[:6].reshape(6, -1), dtype=torch.float32)  # Flatten the first 6 images\n",
    "        targets = torch.tensor(item[6:].reshape(6, -1), dtype=torch.float32)  # Flatten the last 6 images\n",
    "        \n",
    "        return inputs, targets"
   ]
  },
  {
   "cell_type": "code",
   "execution_count": 4,
   "id": "80ad77ef",
   "metadata": {
    "execution": {
     "iopub.execute_input": "2024-08-23T15:13:09.085806Z",
     "iopub.status.busy": "2024-08-23T15:13:09.085323Z",
     "iopub.status.idle": "2024-08-23T15:13:09.128609Z",
     "shell.execute_reply": "2024-08-23T15:13:09.127703Z"
    },
    "papermill": {
     "duration": 0.055952,
     "end_time": "2024-08-23T15:13:09.130751",
     "exception": false,
     "start_time": "2024-08-23T15:13:09.074799",
     "status": "completed"
    },
    "tags": []
   },
   "outputs": [],
   "source": [
    "train_file_paths = [PATH + file for file in sorted(os.listdir(PATH))][0:40]\n",
    "test_file_paths = [PATH + file for file in sorted(os.listdir(PATH))][40]"
   ]
  },
  {
   "cell_type": "code",
   "execution_count": 5,
   "id": "cc7a12a8",
   "metadata": {
    "execution": {
     "iopub.execute_input": "2024-08-23T15:13:09.151718Z",
     "iopub.status.busy": "2024-08-23T15:13:09.151421Z",
     "iopub.status.idle": "2024-08-23T15:13:10.017228Z",
     "shell.execute_reply": "2024-08-23T15:13:10.016106Z"
    },
    "papermill": {
     "duration": 0.879097,
     "end_time": "2024-08-23T15:13:10.019665",
     "exception": false,
     "start_time": "2024-08-23T15:13:09.140568",
     "status": "completed"
    },
    "tags": []
   },
   "outputs": [],
   "source": [
    "train_dataset = ThunderstormDataset(train_file_paths)\n",
    "test_dataset = ThunderstormDataset([test_file_paths])\n",
    "\n",
    "train_loader = DataLoader(train_dataset, batch_size=32, shuffle=True, num_workers=4)\n",
    "test_loader = DataLoader(test_dataset, batch_size=32, shuffle=False, num_workers=4)"
   ]
  },
  {
   "cell_type": "markdown",
   "id": "963a524b",
   "metadata": {
    "papermill": {
     "duration": 0.009999,
     "end_time": "2024-08-23T15:13:10.040156",
     "exception": false,
     "start_time": "2024-08-23T15:13:10.030157",
     "status": "completed"
    },
    "tags": []
   },
   "source": [
    "## 2. Create models"
   ]
  },
  {
   "cell_type": "markdown",
   "id": "062bfa89",
   "metadata": {
    "papermill": {
     "duration": 0.009612,
     "end_time": "2024-08-23T15:13:10.059877",
     "exception": false,
     "start_time": "2024-08-23T15:13:10.050265",
     "status": "completed"
    },
    "tags": []
   },
   "source": [
    "### 2.1. Encoders"
   ]
  },
  {
   "cell_type": "code",
   "execution_count": 6,
   "id": "abc06e4e",
   "metadata": {
    "execution": {
     "iopub.execute_input": "2024-08-23T15:13:10.081447Z",
     "iopub.status.busy": "2024-08-23T15:13:10.080833Z",
     "iopub.status.idle": "2024-08-23T15:13:10.087469Z",
     "shell.execute_reply": "2024-08-23T15:13:10.086577Z"
    },
    "papermill": {
     "duration": 0.019492,
     "end_time": "2024-08-23T15:13:10.089457",
     "exception": false,
     "start_time": "2024-08-23T15:13:10.069965",
     "status": "completed"
    },
    "tags": []
   },
   "outputs": [],
   "source": [
    "class RNNEncoder(nn.Module):\n",
    "    def __init__(self, input_size, hidden_size, num_layers, dropout=0.5):\n",
    "        super(RNNEncoder, self).__init__()\n",
    "        self.hidden_size = hidden_size\n",
    "        self.num_layers = num_layers\n",
    "        self.rnn = nn.RNN(input_size, hidden_size, num_layers, batch_first=True, dropout=dropout)\n",
    "\n",
    "    def forward(self, x):\n",
    "        h0 = torch.zeros(self.num_layers, x.size(0), self.hidden_size).to(x.device)  # [num_layers, b, hidden_size]\n",
    "        out, hn = self.rnn(x, h0)  # [b, t, hidden_size]\n",
    "        return out, hn  # Return the final hidden state"
   ]
  },
  {
   "cell_type": "code",
   "execution_count": 7,
   "id": "f385a07a",
   "metadata": {
    "execution": {
     "iopub.execute_input": "2024-08-23T15:13:10.109906Z",
     "iopub.status.busy": "2024-08-23T15:13:10.109640Z",
     "iopub.status.idle": "2024-08-23T15:13:10.116453Z",
     "shell.execute_reply": "2024-08-23T15:13:10.115632Z"
    },
    "papermill": {
     "duration": 0.019155,
     "end_time": "2024-08-23T15:13:10.118333",
     "exception": false,
     "start_time": "2024-08-23T15:13:10.099178",
     "status": "completed"
    },
    "tags": []
   },
   "outputs": [],
   "source": [
    "class LSTMEncoder(nn.Module):\n",
    "    def __init__(self, input_size, hidden_size, num_layers, dropout=0.5):\n",
    "        super(LSTMEncoder, self).__init__()\n",
    "        self.hidden_size = hidden_size\n",
    "        self.num_layers = num_layers\n",
    "        self.lstm = nn.LSTM(input_size, hidden_size, num_layers, batch_first=True, dropout=dropout)\n",
    "\n",
    "    def forward(self, x):\n",
    "        h0 = torch.zeros(self.num_layers, x.size(0), self.hidden_size).to(x.device)\n",
    "        c0 = torch.zeros(self.num_layers, x.size(0), self.hidden_size).to(x.device)\n",
    "        out, (hn, cn) = self.lstm(x, (h0, c0))\n",
    "        return out, (hn, cn)  # Return output and final hidden & cell states"
   ]
  },
  {
   "cell_type": "code",
   "execution_count": 8,
   "id": "406bac17",
   "metadata": {
    "execution": {
     "iopub.execute_input": "2024-08-23T15:13:10.138841Z",
     "iopub.status.busy": "2024-08-23T15:13:10.138570Z",
     "iopub.status.idle": "2024-08-23T15:13:10.144789Z",
     "shell.execute_reply": "2024-08-23T15:13:10.143999Z"
    },
    "papermill": {
     "duration": 0.018645,
     "end_time": "2024-08-23T15:13:10.146581",
     "exception": false,
     "start_time": "2024-08-23T15:13:10.127936",
     "status": "completed"
    },
    "tags": []
   },
   "outputs": [],
   "source": [
    "class GRUEncoder(nn.Module):\n",
    "    def __init__(self, input_size, hidden_size, num_layers, dropout=0.5):\n",
    "        super(GRUEncoder, self).__init__()\n",
    "        self.hidden_size = hidden_size\n",
    "        self.num_layers = num_layers\n",
    "        self.gru = nn.GRU(input_size, hidden_size, num_layers, batch_first=True, dropout=dropout)\n",
    "\n",
    "    def forward(self, x):\n",
    "        h0 = torch.zeros(self.num_layers, x.size(0), self.hidden_size).to(x.device)\n",
    "        out, hn = self.gru(x, h0)\n",
    "        return out, hn  # Return output and final hidden state"
   ]
  },
  {
   "cell_type": "markdown",
   "id": "aea8bfb0",
   "metadata": {
    "papermill": {
     "duration": 0.009345,
     "end_time": "2024-08-23T15:13:10.165597",
     "exception": false,
     "start_time": "2024-08-23T15:13:10.156252",
     "status": "completed"
    },
    "tags": []
   },
   "source": [
    "### 2.2. Decoders"
   ]
  },
  {
   "cell_type": "code",
   "execution_count": 9,
   "id": "29a744e8",
   "metadata": {
    "execution": {
     "iopub.execute_input": "2024-08-23T15:13:10.186287Z",
     "iopub.status.busy": "2024-08-23T15:13:10.185952Z",
     "iopub.status.idle": "2024-08-23T15:13:10.192667Z",
     "shell.execute_reply": "2024-08-23T15:13:10.191831Z"
    },
    "papermill": {
     "duration": 0.018993,
     "end_time": "2024-08-23T15:13:10.194457",
     "exception": false,
     "start_time": "2024-08-23T15:13:10.175464",
     "status": "completed"
    },
    "tags": []
   },
   "outputs": [],
   "source": [
    "class RNNDecoder(nn.Module):\n",
    "    def __init__(self, hidden_size, output_size, num_layers, dropout=0.5):\n",
    "        super(RNNDecoder, self).__init__()\n",
    "        self.hidden_size = hidden_size\n",
    "        self.num_layers = num_layers\n",
    "        self.rnn = nn.RNN(hidden_size, hidden_size, num_layers, batch_first=True, dropout=dropout)\n",
    "        self.fc = nn.Linear(hidden_size, output_size)\n",
    "        self.output_to_hidden = nn.Linear(output_size, hidden_size)\n",
    "\n",
    "    def forward(self, x, hn):\n",
    "        out, hn = self.rnn(x, hn)  # Use the hidden state from the encoder as the initial hidden state for the decoder\n",
    "        out = self.fc(out)  # Map to output space\n",
    "        x = self.output_to_hidden(out)\n",
    "        return out, hn, x"
   ]
  },
  {
   "cell_type": "code",
   "execution_count": 10,
   "id": "5178e560",
   "metadata": {
    "execution": {
     "iopub.execute_input": "2024-08-23T15:13:10.215093Z",
     "iopub.status.busy": "2024-08-23T15:13:10.214752Z",
     "iopub.status.idle": "2024-08-23T15:13:10.221312Z",
     "shell.execute_reply": "2024-08-23T15:13:10.220501Z"
    },
    "papermill": {
     "duration": 0.018897,
     "end_time": "2024-08-23T15:13:10.223118",
     "exception": false,
     "start_time": "2024-08-23T15:13:10.204221",
     "status": "completed"
    },
    "tags": []
   },
   "outputs": [],
   "source": [
    "class LSTMDecoder(nn.Module):\n",
    "    def __init__(self, hidden_size, output_size, num_layers, dropout=0.5):\n",
    "        super(LSTMDecoder, self).__init__()\n",
    "        self.hidden_size = hidden_size\n",
    "        self.num_layers = num_layers\n",
    "        self.lstm = nn.LSTM(hidden_size, hidden_size, num_layers, batch_first=True, dropout=dropout)\n",
    "        self.fc = nn.Linear(hidden_size, output_size)\n",
    "        self.output_to_hidden = nn.Linear(output_size, hidden_size)\n",
    "\n",
    "    def forward(self, x, hidden):\n",
    "        out, hidden = self.lstm(x, hidden)\n",
    "        out = self.fc(out)\n",
    "        x = self.output_to_hidden(out)  # Transform output to match the hidden_size\n",
    "        return out, hidden, x"
   ]
  },
  {
   "cell_type": "code",
   "execution_count": 11,
   "id": "7fb5b8a7",
   "metadata": {
    "execution": {
     "iopub.execute_input": "2024-08-23T15:13:10.243257Z",
     "iopub.status.busy": "2024-08-23T15:13:10.242947Z",
     "iopub.status.idle": "2024-08-23T15:13:10.249406Z",
     "shell.execute_reply": "2024-08-23T15:13:10.248510Z"
    },
    "papermill": {
     "duration": 0.018599,
     "end_time": "2024-08-23T15:13:10.251296",
     "exception": false,
     "start_time": "2024-08-23T15:13:10.232697",
     "status": "completed"
    },
    "tags": []
   },
   "outputs": [],
   "source": [
    "class GRUDecoder(nn.Module):\n",
    "    def __init__(self, hidden_size, output_size, num_layers, dropout=0.5):\n",
    "        super(GRUDecoder, self).__init__()\n",
    "        self.hidden_size = hidden_size\n",
    "        self.num_layers = num_layers\n",
    "        self.gru = nn.GRU(hidden_size, hidden_size, num_layers, batch_first=True, dropout=dropout)\n",
    "        self.fc = nn.Linear(hidden_size, output_size)\n",
    "        self.output_to_hidden = nn.Linear(output_size, hidden_size)\n",
    "\n",
    "    def forward(self, x, hn):\n",
    "        out, hn = self.gru(x, hn)\n",
    "        out = self.fc(out)\n",
    "        x = self.output_to_hidden(out)  # Transform output to match the hidden_size\n",
    "        return out, hn, x"
   ]
  },
  {
   "cell_type": "markdown",
   "id": "15361534",
   "metadata": {
    "papermill": {
     "duration": 0.009541,
     "end_time": "2024-08-23T15:13:10.270525",
     "exception": false,
     "start_time": "2024-08-23T15:13:10.260984",
     "status": "completed"
    },
    "tags": []
   },
   "source": [
    "### 2.3. Seq2Seq Model"
   ]
  },
  {
   "cell_type": "code",
   "execution_count": 12,
   "id": "10b44f61",
   "metadata": {
    "execution": {
     "iopub.execute_input": "2024-08-23T15:13:10.292456Z",
     "iopub.status.busy": "2024-08-23T15:13:10.291568Z",
     "iopub.status.idle": "2024-08-23T15:13:10.298839Z",
     "shell.execute_reply": "2024-08-23T15:13:10.297985Z"
    },
    "papermill": {
     "duration": 0.020657,
     "end_time": "2024-08-23T15:13:10.300876",
     "exception": false,
     "start_time": "2024-08-23T15:13:10.280219",
     "status": "completed"
    },
    "tags": []
   },
   "outputs": [],
   "source": [
    "class Seq2SeqModel(nn.Module):\n",
    "    def __init__(self, encoder, decoder):\n",
    "        super(Seq2SeqModel, self).__init__()\n",
    "        self.encoder = encoder\n",
    "        self.decoder = decoder\n",
    "\n",
    "    def forward(self, x, target_seq_length):\n",
    "        encoder_output, encoder_hidden = self.encoder(x)  # Encode the input sequence\n",
    "        decoder_input = encoder_output[:, -1:, :]  # Use the last hidden state of encoder as the first input for decoder\n",
    "        decoder_hidden = encoder_hidden\n",
    "\n",
    "        outputs = []\n",
    "        for _ in range(target_seq_length):\n",
    "            decoder_output, decoder_hidden, decoder_input  = self.decoder(decoder_input, decoder_hidden)\n",
    "            outputs.append(decoder_output)\n",
    "\n",
    "        outputs = torch.cat(outputs, dim=1)  # Concatenate outputs along sequence dimension\n",
    "        return outputs"
   ]
  },
  {
   "cell_type": "markdown",
   "id": "cddb1059",
   "metadata": {
    "papermill": {
     "duration": 0.009384,
     "end_time": "2024-08-23T15:13:10.320266",
     "exception": false,
     "start_time": "2024-08-23T15:13:10.310882",
     "status": "completed"
    },
    "tags": []
   },
   "source": [
    "## 3. Specify training loop"
   ]
  },
  {
   "cell_type": "code",
   "execution_count": 13,
   "id": "f76c00ea",
   "metadata": {
    "execution": {
     "iopub.execute_input": "2024-08-23T15:13:10.341406Z",
     "iopub.status.busy": "2024-08-23T15:13:10.340597Z",
     "iopub.status.idle": "2024-08-23T15:13:10.349489Z",
     "shell.execute_reply": "2024-08-23T15:13:10.348609Z"
    },
    "papermill": {
     "duration": 0.0214,
     "end_time": "2024-08-23T15:13:10.351339",
     "exception": false,
     "start_time": "2024-08-23T15:13:10.329939",
     "status": "completed"
    },
    "tags": []
   },
   "outputs": [],
   "source": [
    "class EarlyStopping:\n",
    "    def __init__(self, patience=5, verbose=False, delta=0):\n",
    "        self.patience = patience\n",
    "        self.verbose = verbose\n",
    "        self.delta = delta\n",
    "        self.counter = 0\n",
    "        self.best_score = None\n",
    "        self.early_stop = False\n",
    "        self.best_loss = np.Inf\n",
    "\n",
    "    def __call__(self, test_loss, model):\n",
    "        score = -test_loss\n",
    "        if self.best_score is None:\n",
    "            self.best_score = score\n",
    "            self.save_checkpoint(test_loss, model)\n",
    "        elif score < self.best_score + self.delta:\n",
    "            self.counter += 1\n",
    "            if self.verbose:\n",
    "                print(f'EarlyStopping counter: {self.counter} out of {self.patience}')\n",
    "            if self.counter >= self.patience:\n",
    "                self.early_stop = True\n",
    "        else:\n",
    "            self.best_score = score\n",
    "            self.save_checkpoint(test_loss, model)\n",
    "            self.counter = 0\n",
    "\n",
    "    def save_checkpoint(self, test_loss, model):\n",
    "        \"\"\"\n",
    "        Saves model when test loss decreases\n",
    "        \"\"\"\n",
    "        self.best_loss = test_loss\n",
    "        torch.save(model.state_dict(), 'checkpoint.pt')"
   ]
  },
  {
   "cell_type": "code",
   "execution_count": 14,
   "id": "818d9854",
   "metadata": {
    "execution": {
     "iopub.execute_input": "2024-08-23T15:13:10.371955Z",
     "iopub.status.busy": "2024-08-23T15:13:10.371658Z",
     "iopub.status.idle": "2024-08-23T15:13:10.377243Z",
     "shell.execute_reply": "2024-08-23T15:13:10.376414Z"
    },
    "papermill": {
     "duration": 0.017858,
     "end_time": "2024-08-23T15:13:10.379083",
     "exception": false,
     "start_time": "2024-08-23T15:13:10.361225",
     "status": "completed"
    },
    "tags": []
   },
   "outputs": [],
   "source": [
    "def evaluate(model, data_loader, criterion, seq_len):\n",
    "    model.eval()\n",
    "    total_loss = 0.0\n",
    "    with torch.no_grad():\n",
    "        for inputs, targets in data_loader:\n",
    "            inputs, targets = inputs.to(device), targets.to(device)\n",
    "            outputs = model(inputs, seq_len)\n",
    "            loss = criterion(outputs, targets)\n",
    "            total_loss += loss.item()\n",
    "    return total_loss / len(data_loader)"
   ]
  },
  {
   "cell_type": "code",
   "execution_count": 15,
   "id": "183f5917",
   "metadata": {
    "execution": {
     "iopub.execute_input": "2024-08-23T15:13:10.399379Z",
     "iopub.status.busy": "2024-08-23T15:13:10.399098Z",
     "iopub.status.idle": "2024-08-23T15:13:10.408919Z",
     "shell.execute_reply": "2024-08-23T15:13:10.408009Z"
    },
    "papermill": {
     "duration": 0.022475,
     "end_time": "2024-08-23T15:13:10.411173",
     "exception": false,
     "start_time": "2024-08-23T15:13:10.388698",
     "status": "completed"
    },
    "tags": []
   },
   "outputs": [],
   "source": [
    "def train(model, train_loader, test_loader, seq_len, num_epochs, learning_rate, device):\n",
    "    criterion = nn.MSELoss()\n",
    "    optimizer = optim.AdamW(model.parameters(), lr=learning_rate)\n",
    "    scheduler = ReduceLROnPlateau(optimizer, 'min', patience=3, factor=0.5)\n",
    "    early_stopping = EarlyStopping(patience=5, verbose=True)\n",
    "\n",
    "    train_losses = []\n",
    "    test_losses = []\n",
    "\n",
    "    for epoch in range(num_epochs):\n",
    "        tic = time.perf_counter()\n",
    "        model.train()\n",
    "        for inputs, targets in train_loader:\n",
    "            inputs, targets = inputs.to(device), targets.to(device)\n",
    "            \n",
    "            optimizer.zero_grad()\n",
    "            outputs = model(inputs, seq_len)\n",
    "            loss = criterion(outputs, targets)\n",
    "            loss.backward()\n",
    "            nn.utils.clip_grad_norm_(model.parameters(), max_norm=1.0)  # Gradient clipping\n",
    "            optimizer.step()\n",
    "   \n",
    "        train_loss = evaluate(model, train_loader, criterion, seq_len)\n",
    "        test_loss = evaluate(model, test_loader, criterion, seq_len)\n",
    "        scheduler.step(test_loss)\n",
    "\n",
    "        train_losses.append(train_loss)\n",
    "        test_losses.append(test_loss)\n",
    "\n",
    "        toc = time.perf_counter()\n",
    "        sec = round(toc - tic)\n",
    "        print(f\"Epoch {epoch + 1:>2}/{num_epochs}, Train Loss: {train_loss:.2f}, Test Loss: {test_loss:.2f}, Current LR: {scheduler.get_last_lr()[0]}, Time: {str(datetime.timedelta(seconds=sec))}\")\n",
    "\n",
    "        early_stopping(test_loss, model)\n",
    "        if early_stopping.early_stop:\n",
    "            print(\"Early stopping\")\n",
    "            break\n",
    "\n",
    "    # Load the best model\n",
    "    model.load_state_dict(torch.load(\"checkpoint.pt\"))\n",
    "\n",
    "    return train_losses, test_losses"
   ]
  },
  {
   "cell_type": "markdown",
   "id": "02b2369d",
   "metadata": {
    "papermill": {
     "duration": 0.009593,
     "end_time": "2024-08-23T15:13:10.430401",
     "exception": false,
     "start_time": "2024-08-23T15:13:10.420808",
     "status": "completed"
    },
    "tags": []
   },
   "source": [
    "## 4. Initialize and train models"
   ]
  },
  {
   "cell_type": "code",
   "execution_count": 16,
   "id": "e6b11684",
   "metadata": {
    "execution": {
     "iopub.execute_input": "2024-08-23T15:13:10.450704Z",
     "iopub.status.busy": "2024-08-23T15:13:10.450405Z",
     "iopub.status.idle": "2024-08-23T15:13:10.454900Z",
     "shell.execute_reply": "2024-08-23T15:13:10.454027Z"
    },
    "papermill": {
     "duration": 0.016752,
     "end_time": "2024-08-23T15:13:10.456788",
     "exception": false,
     "start_time": "2024-08-23T15:13:10.440036",
     "status": "completed"
    },
    "tags": []
   },
   "outputs": [],
   "source": [
    "input_dim = 256 * 256\n",
    "hidden_dim = 128\n",
    "num_layers = 2\n",
    "output_dim = 256 * 256\n",
    "seq_len = 6\n",
    "learning_rate = 0.001\n",
    "num_epochs = 30"
   ]
  },
  {
   "cell_type": "markdown",
   "id": "8c999430",
   "metadata": {
    "papermill": {
     "duration": 0.00939,
     "end_time": "2024-08-23T15:13:10.475960",
     "exception": false,
     "start_time": "2024-08-23T15:13:10.466570",
     "status": "completed"
    },
    "tags": []
   },
   "source": [
    "### 4.1. RNN"
   ]
  },
  {
   "cell_type": "code",
   "execution_count": 17,
   "id": "6b2ac929",
   "metadata": {
    "execution": {
     "iopub.execute_input": "2024-08-23T15:13:10.496366Z",
     "iopub.status.busy": "2024-08-23T15:13:10.496057Z",
     "iopub.status.idle": "2024-08-23T15:13:11.005789Z",
     "shell.execute_reply": "2024-08-23T15:13:11.004684Z"
    },
    "papermill": {
     "duration": 0.522518,
     "end_time": "2024-08-23T15:13:11.008119",
     "exception": false,
     "start_time": "2024-08-23T15:13:10.485601",
     "status": "completed"
    },
    "tags": []
   },
   "outputs": [],
   "source": [
    "rnn = Seq2SeqModel(\n",
    "    RNNEncoder(input_dim, hidden_dim, num_layers),\n",
    "    RNNDecoder(hidden_dim, output_dim, num_layers)\n",
    ").to(device)"
   ]
  },
  {
   "cell_type": "code",
   "execution_count": 18,
   "id": "7d8e319c",
   "metadata": {
    "execution": {
     "iopub.execute_input": "2024-08-23T15:13:11.030241Z",
     "iopub.status.busy": "2024-08-23T15:13:11.029084Z",
     "iopub.status.idle": "2024-08-23T16:47:35.340356Z",
     "shell.execute_reply": "2024-08-23T16:47:35.339201Z"
    },
    "papermill": {
     "duration": 5664.3262,
     "end_time": "2024-08-23T16:47:35.344401",
     "exception": false,
     "start_time": "2024-08-23T15:13:11.018201",
     "status": "completed"
    },
    "tags": []
   },
   "outputs": [
    {
     "name": "stdout",
     "output_type": "stream",
     "text": [
      "Epoch  1/30, Train Loss: 2263.87, Test Loss: 2271.31, Current LR: 0.001, Time: 0:04:22\n",
      "Epoch  2/30, Train Loss: 2251.21, Test Loss: 2261.76, Current LR: 0.001, Time: 0:03:05\n",
      "Epoch  3/30, Train Loss: 2249.36, Test Loss: 2263.65, Current LR: 0.001, Time: 0:03:03\n",
      "EarlyStopping counter: 1 out of 5\n",
      "Epoch  4/30, Train Loss: 2238.22, Test Loss: 2250.22, Current LR: 0.001, Time: 0:02:55\n",
      "Epoch  5/30, Train Loss: 2213.57, Test Loss: 2235.40, Current LR: 0.001, Time: 0:02:59\n",
      "Epoch  6/30, Train Loss: 2199.00, Test Loss: 2221.19, Current LR: 0.001, Time: 0:03:09\n",
      "Epoch  7/30, Train Loss: 2132.32, Test Loss: 2163.39, Current LR: 0.001, Time: 0:03:11\n",
      "Epoch  8/30, Train Loss: 2087.18, Test Loss: 2128.47, Current LR: 0.001, Time: 0:03:04\n",
      "Epoch  9/30, Train Loss: 2062.15, Test Loss: 2098.66, Current LR: 0.001, Time: 0:02:55\n",
      "Epoch 10/30, Train Loss: 2004.41, Test Loss: 2049.39, Current LR: 0.001, Time: 0:02:57\n",
      "Epoch 11/30, Train Loss: 1925.12, Test Loss: 1986.90, Current LR: 0.001, Time: 0:03:13\n",
      "Epoch 12/30, Train Loss: 1901.58, Test Loss: 1966.00, Current LR: 0.001, Time: 0:03:05\n",
      "Epoch 13/30, Train Loss: 1889.03, Test Loss: 1954.46, Current LR: 0.001, Time: 0:03:12\n",
      "Epoch 14/30, Train Loss: 1883.14, Test Loss: 1946.42, Current LR: 0.001, Time: 0:03:00\n",
      "Epoch 15/30, Train Loss: 1878.79, Test Loss: 1939.79, Current LR: 0.001, Time: 0:03:10\n",
      "Epoch 16/30, Train Loss: 1874.28, Test Loss: 1932.81, Current LR: 0.001, Time: 0:03:02\n",
      "Epoch 17/30, Train Loss: 1865.17, Test Loss: 1935.70, Current LR: 0.001, Time: 0:03:13\n",
      "EarlyStopping counter: 1 out of 5\n",
      "Epoch 18/30, Train Loss: 1856.26, Test Loss: 1922.74, Current LR: 0.001, Time: 0:03:12\n",
      "Epoch 19/30, Train Loss: 1851.18, Test Loss: 1909.52, Current LR: 0.001, Time: 0:03:03\n",
      "Epoch 20/30, Train Loss: 1852.72, Test Loss: 1910.24, Current LR: 0.001, Time: 0:03:11\n",
      "EarlyStopping counter: 1 out of 5\n",
      "Epoch 21/30, Train Loss: 1846.90, Test Loss: 1909.86, Current LR: 0.001, Time: 0:03:10\n",
      "EarlyStopping counter: 2 out of 5\n",
      "Epoch 22/30, Train Loss: 1844.63, Test Loss: 1903.93, Current LR: 0.001, Time: 0:03:03\n",
      "Epoch 23/30, Train Loss: 1833.45, Test Loss: 1886.99, Current LR: 0.001, Time: 0:03:08\n",
      "Epoch 24/30, Train Loss: 1825.11, Test Loss: 1878.53, Current LR: 0.001, Time: 0:03:04\n",
      "Epoch 25/30, Train Loss: 1822.50, Test Loss: 1888.84, Current LR: 0.001, Time: 0:03:09\n",
      "EarlyStopping counter: 1 out of 5\n",
      "Epoch 26/30, Train Loss: 1825.18, Test Loss: 1888.58, Current LR: 0.001, Time: 0:03:10\n",
      "EarlyStopping counter: 2 out of 5\n",
      "Epoch 27/30, Train Loss: 1837.33, Test Loss: 1905.43, Current LR: 0.001, Time: 0:03:09\n",
      "EarlyStopping counter: 3 out of 5\n",
      "Epoch 28/30, Train Loss: 1833.51, Test Loss: 1893.32, Current LR: 0.0005, Time: 0:03:08\n",
      "EarlyStopping counter: 4 out of 5\n",
      "Epoch 29/30, Train Loss: 1818.86, Test Loss: 1877.47, Current LR: 0.0005, Time: 0:03:02\n",
      "Epoch 30/30, Train Loss: 1809.02, Test Loss: 1876.77, Current LR: 0.0005, Time: 0:03:12\n"
     ]
    },
    {
     "name": "stderr",
     "output_type": "stream",
     "text": [
      "/tmp/ipykernel_23/2780909851.py:40: FutureWarning: You are using `torch.load` with `weights_only=False` (the current default value), which uses the default pickle module implicitly. It is possible to construct malicious pickle data which will execute arbitrary code during unpickling (See https://github.com/pytorch/pytorch/blob/main/SECURITY.md#untrusted-models for more details). In a future release, the default value for `weights_only` will be flipped to `True`. This limits the functions that could be executed during unpickling. Arbitrary objects will no longer be allowed to be loaded via this mode unless they are explicitly allowlisted by the user via `torch.serialization.add_safe_globals`. We recommend you start setting `weights_only=True` for any use case where you don't have full control of the loaded file. Please open an issue on GitHub for any issues related to this experimental feature.\n",
      "  model.load_state_dict(torch.load(\"checkpoint.pt\"))\n"
     ]
    }
   ],
   "source": [
    "train_losses, test_losses = train(rnn, train_loader, test_loader, seq_len, num_epochs, learning_rate, device)"
   ]
  },
  {
   "cell_type": "code",
   "execution_count": 19,
   "id": "6cb85d17",
   "metadata": {
    "execution": {
     "iopub.execute_input": "2024-08-23T16:47:35.372508Z",
     "iopub.status.busy": "2024-08-23T16:47:35.371787Z",
     "iopub.status.idle": "2024-08-23T16:47:35.873739Z",
     "shell.execute_reply": "2024-08-23T16:47:35.872789Z"
    },
    "papermill": {
     "duration": 0.518612,
     "end_time": "2024-08-23T16:47:35.875832",
     "exception": false,
     "start_time": "2024-08-23T16:47:35.357220",
     "status": "completed"
    },
    "tags": []
   },
   "outputs": [
    {
     "data": {
      "image/png": "[encoded data removed]",
      "text/plain": [
       "<Figure size 800x320 with 1 Axes>"
      ]
     },
     "metadata": {
      "image/png": {
       "height": 324,
       "width": 702
      }
     },
     "output_type": "display_data"
    }
   ],
   "source": [
    "ax = subplots(figsize=(10, 4))[1]\n",
    "ax.plot(train_losses, label='Train Loss')\n",
    "ax.plot(test_losses, label='Test Loss')\n",
    "ax.set_xlabel('Epoch')\n",
    "ax.set_ylabel('MSE Loss')\n",
    "ax.set_title('RNN')\n",
    "plt.legend();"
   ]
  },
  {
   "cell_type": "code",
   "execution_count": 20,
   "id": "f2b669e0",
   "metadata": {
    "execution": {
     "iopub.execute_input": "2024-08-23T16:47:35.903618Z",
     "iopub.status.busy": "2024-08-23T16:47:35.903300Z",
     "iopub.status.idle": "2024-08-23T16:47:39.495599Z",
     "shell.execute_reply": "2024-08-23T16:47:39.494463Z"
    },
    "papermill": {
     "duration": 3.608521,
     "end_time": "2024-08-23T16:47:39.497842",
     "exception": false,
     "start_time": "2024-08-23T16:47:35.889321",
     "status": "completed"
    },
    "tags": []
   },
   "outputs": [
    {
     "name": "stdout",
     "output_type": "stream",
     "text": [
      "Test RMSE: 43.3217\n"
     ]
    }
   ],
   "source": [
    "criterion = nn.MSELoss()\n",
    "test_loss = evaluate(rnn, test_loader, criterion, seq_len)\n",
    "print(f'Test RMSE: {test_loss ** 0.5:.4f}')"
   ]
  },
  {
   "cell_type": "code",
   "execution_count": 21,
   "id": "6e80ea0d",
   "metadata": {
    "execution": {
     "iopub.execute_input": "2024-08-23T16:47:39.526222Z",
     "iopub.status.busy": "2024-08-23T16:47:39.525875Z",
     "iopub.status.idle": "2024-08-23T16:47:39.744157Z",
     "shell.execute_reply": "2024-08-23T16:47:39.742901Z"
    },
    "papermill": {
     "duration": 0.235026,
     "end_time": "2024-08-23T16:47:39.746719",
     "exception": false,
     "start_time": "2024-08-23T16:47:39.511693",
     "status": "completed"
    },
    "tags": []
   },
   "outputs": [],
   "source": [
    "model_name = \"RNN\"\n",
    "torch.save(rnn.state_dict(), f\"{model_name}.pt\")\n",
    "np.save(f\"{model_name}_train_losses.npy\", np.array(train_losses))\n",
    "np.save(f\"{model_name}_test_losses.npy\", np.array(test_losses))"
   ]
  },
  {
   "cell_type": "markdown",
   "id": "af792dae",
   "metadata": {
    "papermill": {
     "duration": 0.013263,
     "end_time": "2024-08-23T16:47:39.774033",
     "exception": false,
     "start_time": "2024-08-23T16:47:39.760770",
     "status": "completed"
    },
    "tags": []
   },
   "source": [
    "### 4.2. LSTM"
   ]
  },
  {
   "cell_type": "code",
   "execution_count": 22,
   "id": "738b882f",
   "metadata": {
    "execution": {
     "iopub.execute_input": "2024-08-23T16:47:39.801628Z",
     "iopub.status.busy": "2024-08-23T16:47:39.801298Z",
     "iopub.status.idle": "2024-08-23T16:47:40.287690Z",
     "shell.execute_reply": "2024-08-23T16:47:40.286865Z"
    },
    "papermill": {
     "duration": 0.502811,
     "end_time": "2024-08-23T16:47:40.290015",
     "exception": false,
     "start_time": "2024-08-23T16:47:39.787204",
     "status": "completed"
    },
    "tags": []
   },
   "outputs": [],
   "source": [
    "lstm = Seq2SeqModel(\n",
    "    LSTMEncoder(input_dim, hidden_dim, num_layers),\n",
    "    LSTMDecoder(hidden_dim, output_dim, num_layers)\n",
    ").to(device)"
   ]
  },
  {
   "cell_type": "code",
   "execution_count": 23,
   "id": "58b54cf5",
   "metadata": {
    "execution": {
     "iopub.execute_input": "2024-08-23T16:47:40.318458Z",
     "iopub.status.busy": "2024-08-23T16:47:40.317846Z",
     "iopub.status.idle": "2024-08-23T18:11:29.663190Z",
     "shell.execute_reply": "2024-08-23T18:11:29.662003Z"
    },
    "papermill": {
     "duration": 5029.378567,
     "end_time": "2024-08-23T18:11:29.682332",
     "exception": false,
     "start_time": "2024-08-23T16:47:40.303765",
     "status": "completed"
    },
    "tags": []
   },
   "outputs": [
    {
     "name": "stdout",
     "output_type": "stream",
     "text": [
      "Epoch  1/30, Train Loss: 2257.98, Test Loss: 2263.02, Current LR: 0.001, Time: 0:03:12\n",
      "Epoch  2/30, Train Loss: 2242.06, Test Loss: 2257.47, Current LR: 0.001, Time: 0:03:17\n",
      "Epoch  3/30, Train Loss: 2222.20, Test Loss: 2247.00, Current LR: 0.001, Time: 0:02:57\n",
      "Epoch  4/30, Train Loss: 2190.51, Test Loss: 2218.49, Current LR: 0.001, Time: 0:03:12\n",
      "Epoch  5/30, Train Loss: 2103.89, Test Loss: 2140.66, Current LR: 0.001, Time: 0:03:04\n",
      "Epoch  6/30, Train Loss: 2017.09, Test Loss: 2072.83, Current LR: 0.001, Time: 0:02:59\n",
      "Epoch  7/30, Train Loss: 1951.97, Test Loss: 2016.72, Current LR: 0.001, Time: 0:03:02\n",
      "Epoch  8/30, Train Loss: 1895.17, Test Loss: 1967.08, Current LR: 0.001, Time: 0:03:18\n",
      "Epoch  9/30, Train Loss: 1856.14, Test Loss: 1936.74, Current LR: 0.001, Time: 0:03:06\n",
      "Epoch 10/30, Train Loss: 1816.95, Test Loss: 1890.94, Current LR: 0.001, Time: 0:03:00\n",
      "Epoch 11/30, Train Loss: 1795.96, Test Loss: 1872.65, Current LR: 0.001, Time: 0:03:15\n",
      "Epoch 12/30, Train Loss: 1755.47, Test Loss: 1828.30, Current LR: 0.001, Time: 0:02:56\n",
      "Epoch 13/30, Train Loss: 1749.03, Test Loss: 1827.22, Current LR: 0.001, Time: 0:03:06\n",
      "Epoch 14/30, Train Loss: 1733.10, Test Loss: 1815.67, Current LR: 0.001, Time: 0:02:57\n",
      "Epoch 15/30, Train Loss: 1723.01, Test Loss: 1813.13, Current LR: 0.001, Time: 0:03:07\n",
      "Epoch 16/30, Train Loss: 1707.79, Test Loss: 1797.52, Current LR: 0.001, Time: 0:03:04\n",
      "Epoch 17/30, Train Loss: 1701.82, Test Loss: 1789.51, Current LR: 0.001, Time: 0:03:01\n",
      "Epoch 18/30, Train Loss: 1693.41, Test Loss: 1783.22, Current LR: 0.001, Time: 0:03:19\n",
      "Epoch 19/30, Train Loss: 1671.95, Test Loss: 1758.41, Current LR: 0.001, Time: 0:03:19\n",
      "Epoch 20/30, Train Loss: 1675.64, Test Loss: 1767.16, Current LR: 0.001, Time: 0:03:03\n",
      "EarlyStopping counter: 1 out of 5\n",
      "Epoch 21/30, Train Loss: 1665.01, Test Loss: 1765.89, Current LR: 0.001, Time: 0:03:03\n",
      "EarlyStopping counter: 2 out of 5\n",
      "Epoch 22/30, Train Loss: 1656.88, Test Loss: 1748.40, Current LR: 0.001, Time: 0:02:58\n",
      "Epoch 23/30, Train Loss: 1664.75, Test Loss: 1763.53, Current LR: 0.001, Time: 0:02:58\n",
      "EarlyStopping counter: 1 out of 5\n",
      "Epoch 24/30, Train Loss: 1659.18, Test Loss: 1774.09, Current LR: 0.001, Time: 0:02:58\n",
      "EarlyStopping counter: 2 out of 5\n",
      "Epoch 25/30, Train Loss: 1666.37, Test Loss: 1784.10, Current LR: 0.001, Time: 0:03:19\n",
      "EarlyStopping counter: 3 out of 5\n",
      "Epoch 26/30, Train Loss: 1656.35, Test Loss: 1775.20, Current LR: 0.0005, Time: 0:03:07\n",
      "EarlyStopping counter: 4 out of 5\n",
      "Epoch 27/30, Train Loss: 1636.80, Test Loss: 1757.15, Current LR: 0.0005, Time: 0:03:01\n",
      "EarlyStopping counter: 5 out of 5\n",
      "Early stopping\n"
     ]
    },
    {
     "name": "stderr",
     "output_type": "stream",
     "text": [
      "/tmp/ipykernel_23/2780909851.py:40: FutureWarning: You are using `torch.load` with `weights_only=False` (the current default value), which uses the default pickle module implicitly. It is possible to construct malicious pickle data which will execute arbitrary code during unpickling (See https://github.com/pytorch/pytorch/blob/main/SECURITY.md#untrusted-models for more details). In a future release, the default value for `weights_only` will be flipped to `True`. This limits the functions that could be executed during unpickling. Arbitrary objects will no longer be allowed to be loaded via this mode unless they are explicitly allowlisted by the user via `torch.serialization.add_safe_globals`. We recommend you start setting `weights_only=True` for any use case where you don't have full control of the loaded file. Please open an issue on GitHub for any issues related to this experimental feature.\n",
      "  model.load_state_dict(torch.load(\"checkpoint.pt\"))\n"
     ]
    }
   ],
   "source": [
    "train_losses, test_losses = train(lstm, train_loader, test_loader, seq_len, num_epochs, learning_rate, device)"
   ]
  },
  {
   "cell_type": "code",
   "execution_count": 24,
   "id": "1787d23c",
   "metadata": {
    "execution": {
     "iopub.execute_input": "2024-08-23T18:11:29.716550Z",
     "iopub.status.busy": "2024-08-23T18:11:29.716204Z",
     "iopub.status.idle": "2024-08-23T18:11:30.180635Z",
     "shell.execute_reply": "2024-08-23T18:11:30.179688Z"
    },
    "papermill": {
     "duration": 0.485021,
     "end_time": "2024-08-23T18:11:30.182828",
     "exception": false,
     "start_time": "2024-08-23T18:11:29.697807",
     "status": "completed"
    },
    "tags": []
   },
   "outputs": [
    {
     "data": {
      "image/png": "[encoded data removed]",
      "text/plain": [
       "<Figure size 800x320 with 1 Axes>"
      ]
     },
     "metadata": {
      "image/png": {
       "height": 324,
       "width": 702
      }
     },
     "output_type": "display_data"
    }
   ],
   "source": [
    "ax = subplots(figsize=(10, 4))[1]\n",
    "ax.plot(train_losses, label='Train Loss')\n",
    "ax.plot(test_losses, label='Test Loss')\n",
    "ax.set_xlabel('Epoch')\n",
    "ax.set_ylabel('MSE Loss')\n",
    "ax.set_title('LSTM')\n",
    "plt.legend();"
   ]
  },
  {
   "cell_type": "code",
   "execution_count": 25,
   "id": "6541b28d",
   "metadata": {
    "execution": {
     "iopub.execute_input": "2024-08-23T18:11:30.216992Z",
     "iopub.status.busy": "2024-08-23T18:11:30.216675Z",
     "iopub.status.idle": "2024-08-23T18:11:34.240257Z",
     "shell.execute_reply": "2024-08-23T18:11:34.238706Z"
    },
    "papermill": {
     "duration": 4.043064,
     "end_time": "2024-08-23T18:11:34.242695",
     "exception": false,
     "start_time": "2024-08-23T18:11:30.199631",
     "status": "completed"
    },
    "tags": []
   },
   "outputs": [
    {
     "name": "stdout",
     "output_type": "stream",
     "text": [
      "Test RMSE: 41.8138\n"
     ]
    }
   ],
   "source": [
    "criterion = nn.MSELoss()\n",
    "test_loss = evaluate(lstm, test_loader, criterion, seq_len)\n",
    "print(f'Test RMSE: {test_loss ** 0.5:.4f}')"
   ]
  },
  {
   "cell_type": "code",
   "execution_count": 26,
   "id": "d9c4fbc6",
   "metadata": {
    "execution": {
     "iopub.execute_input": "2024-08-23T18:11:34.277579Z",
     "iopub.status.busy": "2024-08-23T18:11:34.277219Z",
     "iopub.status.idle": "2024-08-23T18:11:34.687455Z",
     "shell.execute_reply": "2024-08-23T18:11:34.686472Z"
    },
    "papermill": {
     "duration": 0.430207,
     "end_time": "2024-08-23T18:11:34.689877",
     "exception": false,
     "start_time": "2024-08-23T18:11:34.259670",
     "status": "completed"
    },
    "tags": []
   },
   "outputs": [],
   "source": [
    "model_name = \"LSTM\"\n",
    "torch.save(lstm.state_dict(), f\"{model_name}.pt\")\n",
    "np.save(f\"{model_name}_train_losses.npy\", np.array(train_losses))\n",
    "np.save(f\"{model_name}_test_losses.npy\", np.array(test_losses))"
   ]
  },
  {
   "cell_type": "markdown",
   "id": "2036a9da",
   "metadata": {
    "papermill": {
     "duration": 0.016038,
     "end_time": "2024-08-23T18:11:34.722792",
     "exception": false,
     "start_time": "2024-08-23T18:11:34.706754",
     "status": "completed"
    },
    "tags": []
   },
   "source": [
    "### 4.3. GRU"
   ]
  },
  {
   "cell_type": "code",
   "execution_count": 27,
   "id": "35b0bc2b",
   "metadata": {
    "execution": {
     "iopub.execute_input": "2024-08-23T18:11:34.756591Z",
     "iopub.status.busy": "2024-08-23T18:11:34.756280Z",
     "iopub.status.idle": "2024-08-23T18:11:35.168899Z",
     "shell.execute_reply": "2024-08-23T18:11:35.167994Z"
    },
    "papermill": {
     "duration": 0.432644,
     "end_time": "2024-08-23T18:11:35.171695",
     "exception": false,
     "start_time": "2024-08-23T18:11:34.739051",
     "status": "completed"
    },
    "tags": []
   },
   "outputs": [],
   "source": [
    "gru = Seq2SeqModel(\n",
    "    GRUEncoder(input_dim, hidden_dim, num_layers),\n",
    "    GRUDecoder(hidden_dim, output_dim, num_layers)\n",
    ").to(device)"
   ]
  },
  {
   "cell_type": "code",
   "execution_count": 28,
   "id": "36eaa0cd",
   "metadata": {
    "execution": {
     "iopub.execute_input": "2024-08-23T18:11:35.211730Z",
     "iopub.status.busy": "2024-08-23T18:11:35.210892Z",
     "iopub.status.idle": "2024-08-23T19:38:59.755190Z",
     "shell.execute_reply": "2024-08-23T19:38:59.754112Z"
    },
    "papermill": {
     "duration": 5244.586913,
     "end_time": "2024-08-23T19:38:59.778643",
     "exception": false,
     "start_time": "2024-08-23T18:11:35.191730",
     "status": "completed"
    },
    "tags": []
   },
   "outputs": [
    {
     "name": "stdout",
     "output_type": "stream",
     "text": [
      "Epoch  1/30, Train Loss: 2256.87, Test Loss: 2263.40, Current LR: 0.001, Time: 0:02:58\n",
      "Epoch  2/30, Train Loss: 2242.48, Test Loss: 2257.34, Current LR: 0.001, Time: 0:02:52\n",
      "Epoch  3/30, Train Loss: 2218.14, Test Loss: 2233.36, Current LR: 0.001, Time: 0:02:52\n",
      "Epoch  4/30, Train Loss: 2155.83, Test Loss: 2183.05, Current LR: 0.001, Time: 0:02:54\n",
      "Epoch  5/30, Train Loss: 2070.92, Test Loss: 2107.98, Current LR: 0.001, Time: 0:03:00\n",
      "Epoch  6/30, Train Loss: 1997.79, Test Loss: 2047.76, Current LR: 0.001, Time: 0:02:53\n",
      "Epoch  7/30, Train Loss: 1945.28, Test Loss: 2007.42, Current LR: 0.001, Time: 0:02:53\n",
      "Epoch  8/30, Train Loss: 1906.16, Test Loss: 1974.63, Current LR: 0.001, Time: 0:02:52\n",
      "Epoch  9/30, Train Loss: 1878.90, Test Loss: 1954.56, Current LR: 0.001, Time: 0:03:01\n",
      "Epoch 10/30, Train Loss: 1845.55, Test Loss: 1917.82, Current LR: 0.001, Time: 0:02:53\n",
      "Epoch 11/30, Train Loss: 1814.41, Test Loss: 1882.22, Current LR: 0.001, Time: 0:02:53\n",
      "Epoch 12/30, Train Loss: 1801.88, Test Loss: 1877.43, Current LR: 0.001, Time: 0:02:52\n",
      "Epoch 13/30, Train Loss: 1784.51, Test Loss: 1848.54, Current LR: 0.001, Time: 0:02:53\n",
      "Epoch 14/30, Train Loss: 1767.48, Test Loss: 1830.37, Current LR: 0.001, Time: 0:02:53\n",
      "Epoch 15/30, Train Loss: 1757.17, Test Loss: 1829.33, Current LR: 0.001, Time: 0:02:58\n",
      "Epoch 16/30, Train Loss: 1747.76, Test Loss: 1826.14, Current LR: 0.001, Time: 0:02:54\n",
      "Epoch 17/30, Train Loss: 1756.77, Test Loss: 1829.90, Current LR: 0.001, Time: 0:02:52\n",
      "EarlyStopping counter: 1 out of 5\n",
      "Epoch 18/30, Train Loss: 1752.91, Test Loss: 1833.74, Current LR: 0.001, Time: 0:02:52\n",
      "EarlyStopping counter: 2 out of 5\n",
      "Epoch 19/30, Train Loss: 1751.48, Test Loss: 1836.88, Current LR: 0.001, Time: 0:02:52\n",
      "EarlyStopping counter: 3 out of 5\n",
      "Epoch 20/30, Train Loss: 1733.10, Test Loss: 1817.34, Current LR: 0.001, Time: 0:03:01\n",
      "Epoch 21/30, Train Loss: 1718.65, Test Loss: 1814.09, Current LR: 0.001, Time: 0:02:51\n",
      "Epoch 22/30, Train Loss: 1713.89, Test Loss: 1794.15, Current LR: 0.001, Time: 0:02:59\n",
      "Epoch 23/30, Train Loss: 1711.03, Test Loss: 1790.69, Current LR: 0.001, Time: 0:02:52\n",
      "Epoch 24/30, Train Loss: 1710.95, Test Loss: 1790.79, Current LR: 0.001, Time: 0:02:53\n",
      "EarlyStopping counter: 1 out of 5\n",
      "Epoch 25/30, Train Loss: 1702.72, Test Loss: 1790.37, Current LR: 0.001, Time: 0:02:52\n",
      "Epoch 26/30, Train Loss: 1726.91, Test Loss: 1815.84, Current LR: 0.001, Time: 0:02:53\n",
      "EarlyStopping counter: 1 out of 5\n",
      "Epoch 27/30, Train Loss: 1728.57, Test Loss: 1817.49, Current LR: 0.001, Time: 0:02:52\n",
      "EarlyStopping counter: 2 out of 5\n",
      "Epoch 28/30, Train Loss: 1726.62, Test Loss: 1828.66, Current LR: 0.001, Time: 0:02:59\n",
      "EarlyStopping counter: 3 out of 5\n",
      "Epoch 29/30, Train Loss: 1726.36, Test Loss: 1793.93, Current LR: 0.0005, Time: 0:02:52\n",
      "EarlyStopping counter: 4 out of 5\n",
      "Epoch 30/30, Train Loss: 1714.14, Test Loss: 1809.05, Current LR: 0.0005, Time: 0:03:03\n",
      "EarlyStopping counter: 5 out of 5\n",
      "Early stopping\n"
     ]
    },
    {
     "name": "stderr",
     "output_type": "stream",
     "text": [
      "/tmp/ipykernel_23/2780909851.py:40: FutureWarning: You are using `torch.load` with `weights_only=False` (the current default value), which uses the default pickle module implicitly. It is possible to construct malicious pickle data which will execute arbitrary code during unpickling (See https://github.com/pytorch/pytorch/blob/main/SECURITY.md#untrusted-models for more details). In a future release, the default value for `weights_only` will be flipped to `True`. This limits the functions that could be executed during unpickling. Arbitrary objects will no longer be allowed to be loaded via this mode unless they are explicitly allowlisted by the user via `torch.serialization.add_safe_globals`. We recommend you start setting `weights_only=True` for any use case where you don't have full control of the loaded file. Please open an issue on GitHub for any issues related to this experimental feature.\n",
      "  model.load_state_dict(torch.load(\"checkpoint.pt\"))\n"
     ]
    }
   ],
   "source": [
    "train_losses, test_losses = train(gru, train_loader, test_loader, seq_len, num_epochs, learning_rate, device)"
   ]
  },
  {
   "cell_type": "code",
   "execution_count": 29,
   "id": "b9fec243",
   "metadata": {
    "execution": {
     "iopub.execute_input": "2024-08-23T19:38:59.819396Z",
     "iopub.status.busy": "2024-08-23T19:38:59.818960Z",
     "iopub.status.idle": "2024-08-23T19:39:00.290293Z",
     "shell.execute_reply": "2024-08-23T19:39:00.289315Z"
    },
    "papermill": {
     "duration": 0.494204,
     "end_time": "2024-08-23T19:39:00.292411",
     "exception": false,
     "start_time": "2024-08-23T19:38:59.798207",
     "status": "completed"
    },
    "tags": []
   },
   "outputs": [
    {
     "data": {
      "image/png": "[encoded data removed]",
      "text/plain": [
       "<Figure size 800x320 with 1 Axes>"
      ]
     },
     "metadata": {
      "image/png": {
       "height": 324,
       "width": 702
      }
     },
     "output_type": "display_data"
    }
   ],
   "source": [
    "ax = subplots(figsize=(10, 4))[1]\n",
    "ax.plot(train_losses, label='Train Loss')\n",
    "ax.plot(test_losses, label='Test Loss')\n",
    "ax.set_xlabel('Epoch')\n",
    "ax.set_ylabel('MSE Loss')\n",
    "ax.set_title('GRU')\n",
    "plt.legend();"
   ]
  },
  {
   "cell_type": "code",
   "execution_count": 30,
   "id": "2e0f64a6",
   "metadata": {
    "execution": {
     "iopub.execute_input": "2024-08-23T19:39:00.334498Z",
     "iopub.status.busy": "2024-08-23T19:39:00.333795Z",
     "iopub.status.idle": "2024-08-23T19:39:04.215335Z",
     "shell.execute_reply": "2024-08-23T19:39:04.213942Z"
    },
    "papermill": {
     "duration": 3.904632,
     "end_time": "2024-08-23T19:39:04.217703",
     "exception": false,
     "start_time": "2024-08-23T19:39:00.313071",
     "status": "completed"
    },
    "tags": []
   },
   "outputs": [
    {
     "name": "stdout",
     "output_type": "stream",
     "text": [
      "Test RMSE: 42.3127\n"
     ]
    }
   ],
   "source": [
    "criterion = nn.MSELoss()\n",
    "test_loss = evaluate(gru, test_loader, criterion, seq_len)\n",
    "print(f'Test RMSE: {test_loss ** 0.5:.4f}')"
   ]
  },
  {
   "cell_type": "code",
   "execution_count": 31,
   "id": "8379c490",
   "metadata": {
    "execution": {
     "iopub.execute_input": "2024-08-23T19:39:04.261462Z",
     "iopub.status.busy": "2024-08-23T19:39:04.260587Z",
     "iopub.status.idle": "2024-08-23T19:39:04.617354Z",
     "shell.execute_reply": "2024-08-23T19:39:04.616550Z"
    },
    "papermill": {
     "duration": 0.381106,
     "end_time": "2024-08-23T19:39:04.619766",
     "exception": false,
     "start_time": "2024-08-23T19:39:04.238660",
     "status": "completed"
    },
    "tags": []
   },
   "outputs": [],
   "source": [
    "model_name = \"GRU\"\n",
    "torch.save(gru.state_dict(), f\"{model_name}.pt\")\n",
    "np.save(f\"{model_name}_train_losses.npy\", np.array(train_losses))\n",
    "np.save(f\"{model_name}_test_losses.npy\", np.array(test_losses))"
   ]
  }
 ],
 "metadata": {
  "kaggle": {
   "accelerator": "gpu",
   "dataSources": [
    {
     "datasetId": 5432154,
     "sourceId": 9015328,
     "sourceType": "datasetVersion"
    },
    {
     "datasetId": 5433512,
     "sourceId": 9017188,
     "sourceType": "datasetVersion"
    }
   ],
   "dockerImageVersionId": 30762,
   "isGpuEnabled": true,
   "isInternetEnabled": true,
   "language": "python",
   "sourceType": "notebook"
  },
  "kernelspec": {
   "display_name": "Python 3",
   "language": "python",
   "name": "python3"
  },
  "language_info": {
   "codemirror_mode": {
    "name": "ipython",
    "version": 3
   },
   "file_extension": ".py",
   "mimetype": "text/x-python",
   "name": "python",
   "nbconvert_exporter": "python",
   "pygments_lexer": "ipython3",
   "version": "3.10.14"
  },
  "papermill": {
   "default_parameters": {},
   "duration": 15966.745981,
   "end_time": "2024-08-23T19:39:07.568582",
   "environment_variables": {},
   "exception": null,
   "input_path": "__notebook__.ipynb",
   "output_path": "__notebook__.ipynb",
   "parameters": {},
   "start_time": "2024-08-23T15:13:00.822601",
   "version": "2.6.0"
  }
 },
 "nbformat": 4,
 "nbformat_minor": 5
}
