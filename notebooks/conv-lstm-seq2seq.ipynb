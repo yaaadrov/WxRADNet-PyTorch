{
 "cells": [
  {
   "cell_type": "markdown",
   "metadata": {},
   "source": [
    "# ConvLSTM Seq2Seq"
   ]
  },
  {
   "cell_type": "code",
   "execution_count": 1,
   "metadata": {},
   "outputs": [],
   "source": [
    "import os\n",
    "import numpy as np\n",
    "import datetime\n",
    "import time\n",
    "\n",
    "import torch\n",
    "import torch.nn as nn\n",
    "\n",
    "import torch.nn.functional as F\n",
    "import torch.optim as optim\n",
    "from torch.utils.data import Dataset, DataLoader\n",
    "from torch.optim.lr_scheduler import ReduceLROnPlateau\n",
    "\n",
    "import matplotlib.pyplot as plt\n",
    "from matplotlib.pyplot import subplots\n",
    "import seaborn as sns\n",
    "plt.style.use('sonia.mplstyle')\n",
    "%config InlineBackend.figure_format = 'retina'\n",
    "%matplotlib inline\n",
    "\n",
    "PATH = './data/'"
   ]
  },
  {
   "cell_type": "code",
   "execution_count": 2,
   "metadata": {},
   "outputs": [
    {
     "name": "stdout",
     "output_type": "stream",
     "text": [
      "True\n"
     ]
    }
   ],
   "source": [
    "print(torch.cuda.is_available())\n",
    "device = torch.device('cuda' if torch.cuda.is_available() else 'cpu')"
   ]
  },
  {
   "cell_type": "markdown",
   "metadata": {},
   "source": [
    "## 1. Get the data"
   ]
  },
  {
   "cell_type": "code",
   "execution_count": 3,
   "metadata": {},
   "outputs": [],
   "source": [
    "class ThunderstormDataset(Dataset):\n",
    "    def __init__(self, file_paths):\n",
    "        self.file_paths = file_paths\n",
    "        self.dataset_sizes = [np.load(file_path, mmap_mode='r').shape[0] for file_path in file_paths]\n",
    "        self.cumulative_sizes = np.cumsum(self.dataset_sizes)\n",
    "        self.total_size = self.cumulative_sizes[-1]\n",
    "\n",
    "    def __len__(self):\n",
    "        return self.total_size\n",
    "\n",
    "    def __getitem__(self, idx):\n",
    "        # Find which file this idx belongs to\n",
    "        file_idx = np.searchsorted(self.cumulative_sizes, idx, side='right')\n",
    "        if file_idx == 0:\n",
    "            within_file_idx = idx\n",
    "        else:\n",
    "            within_file_idx = idx - self.cumulative_sizes[file_idx - 1]\n",
    "        \n",
    "        file_path = self.file_paths[file_idx]\n",
    "        data = np.load(file_path, mmap_mode='r')\n",
    "        item = data[within_file_idx]\n",
    "        \n",
    "        # Split the item into inputs and targets\n",
    "        inputs = torch.tensor(item[:6, :, :, :], dtype=torch.float32).permute(0, 3, 1, 2)  # The first 6 images\n",
    "        targets = torch.tensor(item[6:, :, :, :], dtype=torch.float32).permute(0, 3, 1, 2)  # The last 6 images\n",
    "        del data\n",
    "        return inputs, targets"
   ]
  },
  {
   "cell_type": "code",
   "execution_count": 4,
   "metadata": {},
   "outputs": [],
   "source": [
    "train_file_paths = [PATH + file for file in sorted(os.listdir(PATH))][0:40]\n",
    "test_file_paths = [PATH + file for file in sorted(os.listdir(PATH))][40]"
   ]
  },
  {
   "cell_type": "code",
   "execution_count": 5,
   "metadata": {},
   "outputs": [],
   "source": [
    "train_dataset = ThunderstormDataset(train_file_paths)\n",
    "test_dataset = ThunderstormDataset([test_file_paths])\n",
    "\n",
    "train_loader = DataLoader(train_dataset, batch_size=1, shuffle=True, num_workers=4)\n",
    "test_loader = DataLoader(test_dataset, batch_size=1, shuffle=False, num_workers=4)"
   ]
  },
  {
   "cell_type": "markdown",
   "metadata": {},
   "source": [
    "## 2. Create ConvLSTM model"
   ]
  },
  {
   "cell_type": "code",
   "execution_count": 6,
   "metadata": {},
   "outputs": [],
   "source": [
    "class ConvLSTMCell(nn.Module):\n",
    "    def __init__(self, input_channels, hidden_channels, kernel_size, bias=True):\n",
    "        super(ConvLSTMCell, self).__init__()\n",
    "        self.input_channels = input_channels\n",
    "        self.hidden_channels = hidden_channels\n",
    "        self.kernel_size = kernel_size\n",
    "        self.padding = kernel_size // 2  # Ensures output has the same size\n",
    "        self.bias = bias\n",
    "        \n",
    "        self.conv = nn.Conv2d(\n",
    "            in_channels=self.input_channels + self.hidden_channels,\n",
    "            out_channels=4 * self.hidden_channels,  # Number of gates\n",
    "            kernel_size=self.kernel_size,\n",
    "            padding=self.padding,\n",
    "            bias=self.bias\n",
    "        )\n",
    "\n",
    "    def forward(self, input_tensor, hidden_state):\n",
    "        h_cur, c_cur = hidden_state\n",
    "        \n",
    "        combined = torch.cat([input_tensor, h_cur], dim=1)  # Concatenate along channel axis\n",
    "        combined_conv = self.conv(combined)\n",
    "        i, f, o, g = torch.split(combined_conv, self.hidden_channels, dim=1)\n",
    "        \n",
    "        i = torch.sigmoid(i)\n",
    "        f = torch.sigmoid(f)\n",
    "        o = torch.sigmoid(o)\n",
    "        g = torch.tanh(g)\n",
    "        \n",
    "        c_next = f * c_cur + i * g\n",
    "        h_next = o * torch.tanh(c_next)\n",
    "        return h_next, c_next\n",
    "\n",
    "    def init_hidden(self, batch_size, image_size):\n",
    "        height, width = image_size\n",
    "        return (\n",
    "            torch.zeros(batch_size, self.hidden_channels, height, width, device=self.conv.weight.device),\n",
    "            torch.zeros(batch_size, self.hidden_channels, height, width, device=self.conv.weight.device)\n",
    "        )"
   ]
  },
  {
   "cell_type": "code",
   "execution_count": 7,
   "metadata": {},
   "outputs": [],
   "source": [
    "class ConvLSTMEncoder(nn.Module):\n",
    "    def __init__(self, input_channels, hidden_channels, kernel_size, num_layers):\n",
    "        super(ConvLSTMEncoder, self).__init__()\n",
    "        self.input_channels = input_channels\n",
    "        self.hidden_channels = hidden_channels\n",
    "        self.kernel_size = kernel_size\n",
    "        self.num_layers = num_layers\n",
    "        \n",
    "        self.cells = nn.ModuleList()\n",
    "        for i in range(num_layers):\n",
    "            cur_input_channels = self.input_channels if i == 0 else self.hidden_channels\n",
    "            self.cells.append(\n",
    "                ConvLSTMCell(\n",
    "                    input_channels=cur_input_channels,\n",
    "                    hidden_channels=self.hidden_channels,\n",
    "                    kernel_size=self.kernel_size\n",
    "                ).to(device)\n",
    "            )\n",
    "\n",
    "    def forward(self, input_tensor):\n",
    "        batch_size, seq_len, _, height, width = input_tensor.size()\n",
    "        hidden_state = self._init_hidden(batch_size, (height, width))\n",
    "        \n",
    "        layer_output_list = []\n",
    "        last_state_list = []\n",
    "\n",
    "        cur_layer_input = input_tensor\n",
    "\n",
    "        for layer_idx in range(self.num_layers):\n",
    "            h, c = hidden_state[layer_idx]\n",
    "            output_inner = []\n",
    "            for t in range(seq_len):\n",
    "                h, c = self.cells[layer_idx](\n",
    "                    input_tensor=cur_layer_input[:, t, :, :, :], \n",
    "                    hidden_state=[h, c]\n",
    "                )\n",
    "                output_inner.append(h)\n",
    "            \n",
    "            layer_output = torch.stack(output_inner, dim=1)  # [b, t, hidden_channels, h, w]\n",
    "            cur_layer_input = layer_output\n",
    "\n",
    "            layer_output_list.append(layer_output)\n",
    "            last_state_list.append([h, c])\n",
    "\n",
    "        return layer_output_list, last_state_list\n",
    "\n",
    "    def _init_hidden(self, batch_size, image_size):\n",
    "        return [self.cells[i].init_hidden(batch_size, image_size) for i in range(self.num_layers)]"
   ]
  },
  {
   "cell_type": "code",
   "execution_count": 8,
   "metadata": {},
   "outputs": [],
   "source": [
    "class ConvLSTMDecoder(nn.Module):\n",
    "    def __init__(self, hidden_channels, output_channels, kernel_size, num_layers):\n",
    "        super(ConvLSTMDecoder, self).__init__()\n",
    "        self.hidden_channels = hidden_channels\n",
    "        self.output_channels = output_channels\n",
    "        self.kernel_size = kernel_size\n",
    "        self.num_layers = num_layers\n",
    "        \n",
    "        self.cells = nn.ModuleList()\n",
    "        for i in range(num_layers):\n",
    "            cur_input_channels = hidden_channels if i == 0 else hidden_channels\n",
    "            self.cells.append(\n",
    "                ConvLSTMCell(\n",
    "                    input_channels=cur_input_channels,\n",
    "                    hidden_channels=self.hidden_channels,\n",
    "                    kernel_size=self.kernel_size\n",
    "                ).to(device)\n",
    "            )\n",
    "\n",
    "        self.decoder = nn.Conv2d(hidden_channels, output_channels, kernel_size=1, padding=0).to(device)\n",
    "        self.adjust_channels = nn.Conv2d(output_channels, hidden_channels, kernel_size=3, padding=1).to(device)\n",
    "\n",
    "    def forward(self, last_state_list, future_seq_len):\n",
    "        h, c = last_state_list[-1]  # Start from the last hidden and cell states of the encoder\n",
    "\n",
    "        predicted_sequence = []\n",
    "        for _ in range(future_seq_len):\n",
    "            next_frame = self.decoder(h)\n",
    "            next_frame_adjusted = self.adjust_channels(next_frame)\n",
    "            predicted_sequence.append(next_frame)\n",
    "            h, c = self.cells[-1](input_tensor=next_frame_adjusted, hidden_state=[h, c])\n",
    "\n",
    "        predicted_sequence = torch.stack(predicted_sequence, dim=1)\n",
    "        return predicted_sequence"
   ]
  },
  {
   "cell_type": "code",
   "execution_count": 9,
   "metadata": {},
   "outputs": [],
   "source": [
    "class ConvLSTMSeq2Seq(nn.Module):\n",
    "    def __init__(self, input_channels, hidden_channels, output_channels, kernel_size, num_layers):\n",
    "        super(ConvLSTMSeq2Seq, self).__init__()\n",
    "        self.encoder = ConvLSTMEncoder(input_channels, hidden_channels, kernel_size, num_layers).to(device)\n",
    "        self.decoder = ConvLSTMDecoder(hidden_channels, output_channels, kernel_size, num_layers).to(device)\n",
    "\n",
    "    def forward(self, input_sequence, future_seq_len):\n",
    "        _, last_state_list = self.encoder(input_sequence)\n",
    "        predicted_sequence = self.decoder(last_state_list, future_seq_len)\n",
    "        return predicted_sequence"
   ]
  },
  {
   "cell_type": "markdown",
   "metadata": {},
   "source": [
    "## 3. Specify training loop"
   ]
  },
  {
   "cell_type": "code",
   "execution_count": 10,
   "metadata": {},
   "outputs": [],
   "source": [
    "class EarlyStopping:\n",
    "    def __init__(self, patience=5, verbose=False, delta=0):\n",
    "        self.patience = patience\n",
    "        self.verbose = verbose\n",
    "        self.delta = delta\n",
    "        self.counter = 0\n",
    "        self.best_score = None\n",
    "        self.early_stop = False\n",
    "        self.best_loss = np.Inf\n",
    "\n",
    "    def __call__(self, test_loss, model):\n",
    "        score = -test_loss\n",
    "        if self.best_score is None:\n",
    "            self.best_score = score\n",
    "            self.save_checkpoint(test_loss, model)\n",
    "        elif score < self.best_score + self.delta:\n",
    "            self.counter += 1\n",
    "            if self.verbose:\n",
    "                print(f'EarlyStopping counter: {self.counter} out of {self.patience}')\n",
    "            if self.counter >= self.patience:\n",
    "                self.early_stop = True\n",
    "        else:\n",
    "            self.best_score = score\n",
    "            self.save_checkpoint(test_loss, model)\n",
    "            self.counter = 0\n",
    "\n",
    "    def save_checkpoint(self, test_loss, model):\n",
    "        self.best_loss = test_loss\n",
    "        torch.save(model.state_dict(), 'results/checkpoint.pt')"
   ]
  },
  {
   "cell_type": "code",
   "execution_count": 11,
   "metadata": {},
   "outputs": [],
   "source": [
    "def evaluate(model, data_loader, criterion, seq_len):\n",
    "    model.eval()\n",
    "    total_loss = 0.0\n",
    "    with torch.no_grad():\n",
    "        for inputs, targets in data_loader:\n",
    "            inputs, targets = inputs.to(device), targets.to(device)\n",
    "            outputs = model(inputs, seq_len)\n",
    "            loss = criterion(outputs, targets)\n",
    "            total_loss += loss.item()\n",
    "    return total_loss / len(data_loader)"
   ]
  },
  {
   "cell_type": "code",
   "execution_count": 12,
   "metadata": {},
   "outputs": [],
   "source": [
    "def train(model, train_loader, test_loader, seq_len, num_epochs, learning_rate, device):\n",
    "    criterion = nn.MSELoss()\n",
    "    optimizer = optim.AdamW(model.parameters(), lr=learning_rate)\n",
    "    scheduler = ReduceLROnPlateau(optimizer, 'min', patience=3, factor=0.5)\n",
    "    early_stopping = EarlyStopping(patience=5, verbose=True)\n",
    "\n",
    "    train_losses = []\n",
    "    test_losses = []\n",
    "\n",
    "    for epoch in range(num_epochs):\n",
    "        tic = time.perf_counter()\n",
    "        model.train()\n",
    "        for inputs, targets in train_loader:\n",
    "            inputs, targets = inputs.to(device), targets.to(device)\n",
    "            \n",
    "            optimizer.zero_grad()\n",
    "            outputs = model(inputs, seq_len)\n",
    "            loss = criterion(outputs, targets)\n",
    "            loss.backward()\n",
    "            nn.utils.clip_grad_norm_(model.parameters(), max_norm=1.0)  # Gradient clipping\n",
    "            optimizer.step()\n",
    "   \n",
    "        train_loss = evaluate(model, train_loader, criterion, seq_len)\n",
    "        test_loss = evaluate(model, test_loader, criterion, seq_len)\n",
    "        scheduler.step(test_loss)\n",
    "\n",
    "        train_losses.append(train_loss)\n",
    "        test_losses.append(test_loss)\n",
    "\n",
    "        toc = time.perf_counter()\n",
    "        sec = round(toc - tic)\n",
    "        print(f'Epoch {epoch + 1:>2}/{num_epochs}, Train Loss: {train_loss:.2f}, Test Loss: {test_loss:.2f}, Time: {str(datetime.timedelta(seconds=sec))}')\n",
    "\n",
    "        early_stopping(test_loss, model)\n",
    "        if early_stopping.early_stop:\n",
    "            print('Early stopping')\n",
    "            break\n",
    "\n",
    "    # Load the best model\n",
    "    model.load_state_dict(torch.load('results/checkpoint.pt'))\n",
    "\n",
    "    return train_losses, test_losses"
   ]
  },
  {
   "cell_type": "markdown",
   "metadata": {},
   "source": [
    "## 4. Initialize and train model"
   ]
  },
  {
   "cell_type": "code",
   "execution_count": 13,
   "metadata": {},
   "outputs": [],
   "source": [
    "input_channels = 1\n",
    "hidden_channels = 64\n",
    "output_channels = 1\n",
    "seq_len = 6\n",
    "kernel_size = 3\n",
    "num_layers = 2\n",
    "batch_size = 1\n",
    "learning_rate = 0.001\n",
    "num_epochs = 20"
   ]
  },
  {
   "cell_type": "code",
   "execution_count": 14,
   "metadata": {},
   "outputs": [],
   "source": [
    "conv_lstm = ConvLSTMSeq2Seq(input_channels, hidden_channels, output_channels, kernel_size, num_layers).to(device)"
   ]
  },
  {
   "cell_type": "code",
   "execution_count": 15,
   "metadata": {},
   "outputs": [
    {
     "name": "stdout",
     "output_type": "stream",
     "text": [
      "Epoch  1/20, Train Loss: 945.99, Test Loss: 910.35, Time: 0:47:50\n",
      "Epoch  2/20, Train Loss: 970.90, Test Loss: 939.72, Time: 0:47:55\n",
      "EarlyStopping counter: 1 out of 5\n",
      "Epoch  3/20, Train Loss: 949.87, Test Loss: 910.72, Time: 0:47:39\n",
      "EarlyStopping counter: 2 out of 5\n",
      "Epoch  4/20, Train Loss: 965.78, Test Loss: 924.49, Time: 0:47:32\n",
      "EarlyStopping counter: 3 out of 5\n",
      "Epoch  5/20, Train Loss: 988.85, Test Loss: 946.45, Time: 0:47:39\n",
      "EarlyStopping counter: 4 out of 5\n",
      "Epoch  6/20, Train Loss: 898.36, Test Loss: 848.47, Time: 0:47:36\n",
      "Epoch  7/20, Train Loss: 879.62, Test Loss: 824.40, Time: 0:47:35\n",
      "Epoch  8/20, Train Loss: 863.56, Test Loss: 808.92, Time: 0:47:58\n",
      "Epoch  9/20, Train Loss: 842.26, Test Loss: 788.95, Time: 0:48:04\n",
      "Epoch 10/20, Train Loss: 853.34, Test Loss: 800.13, Time: 0:47:48\n",
      "EarlyStopping counter: 1 out of 5\n",
      "Epoch 11/20, Train Loss: 836.81, Test Loss: 780.33, Time: 0:47:42\n",
      "Epoch 12/20, Train Loss: 833.77, Test Loss: 777.35, Time: 0:47:40\n",
      "Epoch 13/20, Train Loss: 830.50, Test Loss: 775.24, Time: 0:47:41\n",
      "Epoch 14/20, Train Loss: 822.90, Test Loss: 766.67, Time: 0:47:41\n",
      "Epoch 15/20, Train Loss: 822.33, Test Loss: 765.24, Time: 0:47:35\n",
      "Epoch 16/20, Train Loss: 824.66, Test Loss: 768.63, Time: 0:47:33\n",
      "EarlyStopping counter: 1 out of 5\n",
      "Epoch 17/20, Train Loss: 827.62, Test Loss: 770.36, Time: 0:47:33\n",
      "EarlyStopping counter: 2 out of 5\n",
      "Epoch 18/20, Train Loss: 818.08, Test Loss: 762.73, Time: 0:47:35\n",
      "Epoch 19/20, Train Loss: 816.43, Test Loss: 760.66, Time: 0:47:36\n",
      "Epoch 20/20, Train Loss: 823.44, Test Loss: 768.76, Time: 0:47:37\n",
      "EarlyStopping counter: 1 out of 5\n"
     ]
    }
   ],
   "source": [
    "train_losses, test_losses = train(conv_lstm, train_loader, test_loader, seq_len, num_epochs, learning_rate, device)"
   ]
  },
  {
   "cell_type": "code",
   "execution_count": 16,
   "metadata": {},
   "outputs": [
    {
     "data": {
      "image/png": "[encoded data removed]",
      "text/plain": [
       "<Figure size 720x288 with 1 Axes>"
      ]
     },
     "metadata": {
      "image/png": {
       "height": 288,
       "width": 633
      },
      "needs_background": "light"
     },
     "output_type": "display_data"
    }
   ],
   "source": [
    "ax = subplots(figsize=(10, 4))[1]\n",
    "ax.plot(train_losses, label='Train Loss')\n",
    "ax.plot(test_losses, label='Test Loss')\n",
    "ax.set_xlabel('Epoch')\n",
    "ax.set_ylabel('MSE Loss')\n",
    "ax.set_title('ConvLSTM')\n",
    "plt.legend();"
   ]
  },
  {
   "cell_type": "code",
   "execution_count": 17,
   "metadata": {},
   "outputs": [
    {
     "name": "stdout",
     "output_type": "stream",
     "text": [
      "Test RMSE: 27.5801\n"
     ]
    }
   ],
   "source": [
    "criterion = nn.MSELoss()\n",
    "test_loss = evaluate(conv_lstm, test_loader, criterion, seq_len)\n",
    "print(f'Test RMSE: {test_loss ** 0.5:.4f}')"
   ]
  },
  {
   "cell_type": "code",
   "execution_count": 18,
   "metadata": {},
   "outputs": [],
   "source": [
    "model_name = 'ConvLSTM'\n",
    "torch.save(conv_lstm.state_dict(), f'results/{model_name}.pt')\n",
    "np.save(f'results/{model_name}_train_losses.npy', np.array(train_losses))\n",
    "np.save(f'results/{model_name}_test_losses.npy', np.array(test_losses))"
   ]
  },
  {
   "cell_type": "code",
   "execution_count": null,
   "metadata": {},
   "outputs": [],
   "source": []
  }
 ],
 "metadata": {
  "kernelspec": {
   "display_name": "Python 3",
   "language": "python",
   "name": "python3"
  },
  "language_info": {
   "codemirror_mode": {
    "name": "ipython",
    "version": 3
   },
   "file_extension": ".py",
   "mimetype": "text/x-python",
   "name": "python",
   "nbconvert_exporter": "python",
   "pygments_lexer": "ipython3",
   "version": "3.7.3"
  }
 },
 "nbformat": 4,
 "nbformat_minor": 2
}
