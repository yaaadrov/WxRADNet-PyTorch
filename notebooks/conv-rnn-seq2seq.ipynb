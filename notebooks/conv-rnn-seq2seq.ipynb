{
 "cells": [
  {
   "cell_type": "markdown",
   "metadata": {},
   "source": [
    "# ConvRNN Seq2Seq"
   ]
  },
  {
   "cell_type": "code",
   "execution_count": 47,
   "metadata": {},
   "outputs": [],
   "source": [
    "import os\n",
    "import numpy as np\n",
    "import datetime\n",
    "import time\n",
    "\n",
    "import torch\n",
    "import torch.nn as nn\n",
    "\n",
    "import torch.nn.functional as F\n",
    "import torch.optim as optim\n",
    "from torch.utils.data import Dataset, DataLoader\n",
    "from torch.optim.lr_scheduler import ReduceLROnPlateau\n",
    "\n",
    "import matplotlib.pyplot as plt\n",
    "from matplotlib.pyplot import subplots\n",
    "import seaborn as sns\n",
    "plt.style.use('sonia.mplstyle')\n",
    "%config InlineBackend.figure_format = 'retina'\n",
    "%matplotlib inline\n",
    "\n",
    "PATH = './data/'"
   ]
  },
  {
   "cell_type": "code",
   "execution_count": 3,
   "metadata": {},
   "outputs": [
    {
     "name": "stdout",
     "output_type": "stream",
     "text": [
      "True\n"
     ]
    }
   ],
   "source": [
    "print(torch.cuda.is_available())\n",
    "device = torch.device('cuda' if torch.cuda.is_available() else 'cpu')"
   ]
  },
  {
   "cell_type": "markdown",
   "metadata": {},
   "source": [
    "## 1. Get the data"
   ]
  },
  {
   "cell_type": "code",
   "execution_count": 8,
   "metadata": {},
   "outputs": [],
   "source": [
    "class ThunderstormDataset(Dataset):\n",
    "    def __init__(self, file_paths):\n",
    "        self.file_paths = file_paths\n",
    "        self.dataset_sizes = [np.load(file_path, mmap_mode='r').shape[0] for file_path in file_paths]\n",
    "        self.cumulative_sizes = np.cumsum(self.dataset_sizes)\n",
    "        self.total_size = self.cumulative_sizes[-1]\n",
    "\n",
    "    def __len__(self):\n",
    "        return self.total_size\n",
    "\n",
    "    def __getitem__(self, idx):\n",
    "        # Find which file this idx belongs to\n",
    "        file_idx = np.searchsorted(self.cumulative_sizes, idx, side='right')\n",
    "        if file_idx == 0:\n",
    "            within_file_idx = idx\n",
    "        else:\n",
    "            within_file_idx = idx - self.cumulative_sizes[file_idx - 1]\n",
    "        \n",
    "        file_path = self.file_paths[file_idx]\n",
    "        data = np.load(file_path, mmap_mode='r')\n",
    "        item = data[within_file_idx]\n",
    "        \n",
    "        # Split the item into inputs and targets\n",
    "        inputs = torch.tensor(item[:6, :, :, :], dtype=torch.float32).permute(0, 3, 1, 2)  # The first 6 images\n",
    "        targets = torch.tensor(item[6:, :, :, :], dtype=torch.float32).permute(0, 3, 1, 2)  # The last 6 images\n",
    "        del data\n",
    "        return inputs, targets"
   ]
  },
  {
   "cell_type": "code",
   "execution_count": 9,
   "metadata": {},
   "outputs": [],
   "source": [
    "train_file_paths = [PATH + file for file in sorted(os.listdir(PATH))][0:40]\n",
    "test_file_paths = [PATH + file for file in sorted(os.listdir(PATH))][40]"
   ]
  },
  {
   "cell_type": "code",
   "execution_count": 10,
   "metadata": {},
   "outputs": [],
   "source": [
    "train_dataset = ThunderstormDataset(train_file_paths)\n",
    "test_dataset = ThunderstormDataset([test_file_paths])\n",
    "\n",
    "train_loader = DataLoader(train_dataset, batch_size=1, shuffle=True, num_workers=4)\n",
    "test_loader = DataLoader(test_dataset, batch_size=1, shuffle=False, num_workers=4)"
   ]
  },
  {
   "cell_type": "markdown",
   "metadata": {},
   "source": [
    "## 2. Create ConvRNN model"
   ]
  },
  {
   "cell_type": "code",
   "execution_count": 11,
   "metadata": {},
   "outputs": [],
   "source": [
    "class ConvRNNCell(nn.Module):\n",
    "    def __init__(self, input_channels, hidden_channels, kernel_size, bias=True):\n",
    "        super(ConvRNNCell, self).__init__()\n",
    "        self.input_channels = input_channels\n",
    "        self.hidden_channels = hidden_channels\n",
    "        self.kernel_size = kernel_size\n",
    "        self.padding = kernel_size // 2  # Ensures output has the same size\n",
    "        self.bias = bias\n",
    "        \n",
    "        # Define the convolutional layer\n",
    "        self.conv = nn.Conv2d(\n",
    "            in_channels=self.input_channels + self.hidden_channels,\n",
    "            out_channels=self.hidden_channels,\n",
    "            kernel_size=self.kernel_size,\n",
    "            padding=self.padding,\n",
    "            bias=self.bias\n",
    "        )\n",
    "\n",
    "    def forward(self, input_tensor, hidden_state):\n",
    "        combined = torch.cat([input_tensor, hidden_state], dim=1)\n",
    "        hidden_state = torch.tanh(self.conv(combined))\n",
    "        return hidden_state\n",
    "    \n",
    "    def init_hidden(self, batch_size, image_size):\n",
    "        height, width = image_size\n",
    "        return torch.zeros(batch_size, self.hidden_channels, height, width, device=self.conv.weight.device)"
   ]
  },
  {
   "cell_type": "code",
   "execution_count": 29,
   "metadata": {},
   "outputs": [],
   "source": [
    "class ConvRNNEncoder(nn.Module):\n",
    "    def __init__(self, input_channels, hidden_channels, kernel_size, num_layers):\n",
    "        super(ConvRNNEncoder, self).__init__()\n",
    "        self.input_channels = input_channels\n",
    "        self.hidden_channels = hidden_channels\n",
    "        self.kernel_size = kernel_size\n",
    "        self.num_layers = num_layers\n",
    "        \n",
    "        self.cells = nn.ModuleList()\n",
    "        for i in range(num_layers):\n",
    "            cur_input_channels = input_channels if i == 0 else hidden_channels\n",
    "            self.cells.append(\n",
    "                ConvRNNCell(\n",
    "                    input_channels=cur_input_channels,\n",
    "                    hidden_channels=self.hidden_channels,\n",
    "                    kernel_size=self.kernel_size\n",
    "                ).to(device)\n",
    "            )\n",
    "\n",
    "    def forward(self, input_tensor):\n",
    "        batch_size, seq_len, _, height, width = input_tensor.size()\n",
    "        hidden_state = self._init_hidden(batch_size, (height, width))\n",
    "        \n",
    "        layer_output_list = []\n",
    "        last_state_list = []\n",
    "\n",
    "        cur_layer_input = input_tensor\n",
    "\n",
    "        for layer_idx in range(self.num_layers):\n",
    "            h = hidden_state[layer_idx]\n",
    "            output_inner = []\n",
    "            for t in range(seq_len):\n",
    "                h = self.cells[layer_idx](input_tensor=cur_layer_input[:, t, :, :, :], hidden_state=h)\n",
    "                output_inner.append(h)\n",
    "            \n",
    "            layer_output = torch.stack(output_inner, dim=1)\n",
    "            cur_layer_input = layer_output\n",
    "\n",
    "            layer_output_list.append(layer_output)\n",
    "            last_state_list.append(h)\n",
    "\n",
    "        return layer_output_list, last_state_list\n",
    "\n",
    "    def _init_hidden(self, batch_size, image_size):\n",
    "        return [self.cells[i].init_hidden(batch_size, image_size) for i in range(self.num_layers)]"
   ]
  },
  {
   "cell_type": "code",
   "execution_count": 30,
   "metadata": {},
   "outputs": [],
   "source": [
    "class ConvRNNDecoder(nn.Module):\n",
    "    def __init__(self, hidden_channels, output_channels, kernel_size, num_layers):\n",
    "        super(ConvRNNDecoder, self).__init__()\n",
    "        self.hidden_channels = hidden_channels\n",
    "        self.output_channels = output_channels\n",
    "        self.kernel_size = kernel_size\n",
    "        self.num_layers = num_layers\n",
    "        \n",
    "        self.cells = nn.ModuleList()\n",
    "        for i in range(num_layers):\n",
    "            cur_input_channels = hidden_channels if i == 0 else hidden_channels\n",
    "            self.cells.append(\n",
    "                ConvRNNCell(\n",
    "                    input_channels=cur_input_channels,\n",
    "                    hidden_channels=self.hidden_channels,\n",
    "                    kernel_size=self.kernel_size\n",
    "                ).to(device)\n",
    "            )\n",
    "\n",
    "        self.decoder = nn.Conv2d(hidden_channels, output_channels, kernel_size=1).to(device)\n",
    "        self.adjust_channels = nn.Conv2d(output_channels, hidden_channels, kernel_size=3, padding=1).to(device)\n",
    "\n",
    "    def forward(self, hidden_state, future_seq_len):\n",
    "        h = hidden_state[-1]  # Start from the last hidden state of the encoder\n",
    "\n",
    "        predicted_sequence = []\n",
    "        for _ in range(future_seq_len):\n",
    "            next_frame = self.decoder(h)\n",
    "            next_frame_adjusted = self.adjust_channels(next_frame)\n",
    "            predicted_sequence.append(next_frame)\n",
    "            h = self.cells[-1](input_tensor=next_frame_adjusted, hidden_state=h)\n",
    "\n",
    "        predicted_sequence = torch.stack(predicted_sequence, dim=1)\n",
    "        return predicted_sequence"
   ]
  },
  {
   "cell_type": "code",
   "execution_count": 33,
   "metadata": {},
   "outputs": [],
   "source": [
    "class ConvRNNSeq2Seq(nn.Module):\n",
    "    def __init__(self, input_channels, hidden_channels, output_channels, kernel_size, num_layers):\n",
    "        super(ConvRNNSeq2Seq, self).__init__()\n",
    "        self.encoder = ConvRNNEncoder(input_channels, hidden_channels, kernel_size, num_layers).to(device)\n",
    "        self.decoder = ConvRNNDecoder(hidden_channels, output_channels, kernel_size, num_layers).to(device)\n",
    "\n",
    "    def forward(self, input_sequence, future_seq_len):\n",
    "        _, last_state_list = self.encoder(input_sequence)\n",
    "        predicted_sequence = self.decoder(last_state_list, future_seq_len)\n",
    "        return predicted_sequence"
   ]
  },
  {
   "cell_type": "markdown",
   "metadata": {},
   "source": [
    "## 3. Specify training loop"
   ]
  },
  {
   "cell_type": "code",
   "execution_count": 38,
   "metadata": {},
   "outputs": [],
   "source": [
    "class EarlyStopping:\n",
    "    def __init__(self, patience=5, verbose=False, delta=0):\n",
    "        self.patience = patience\n",
    "        self.verbose = verbose\n",
    "        self.delta = delta\n",
    "        self.counter = 0\n",
    "        self.best_score = None\n",
    "        self.early_stop = False\n",
    "        self.best_loss = np.Inf\n",
    "\n",
    "    def __call__(self, test_loss, model):\n",
    "        score = -test_loss\n",
    "        if self.best_score is None:\n",
    "            self.best_score = score\n",
    "            self.save_checkpoint(test_loss, model)\n",
    "        elif score < self.best_score + self.delta:\n",
    "            self.counter += 1\n",
    "            if self.verbose:\n",
    "                print(f'EarlyStopping counter: {self.counter} out of {self.patience}')\n",
    "            if self.counter >= self.patience:\n",
    "                self.early_stop = True\n",
    "        else:\n",
    "            self.best_score = score\n",
    "            self.save_checkpoint(test_loss, model)\n",
    "            self.counter = 0\n",
    "\n",
    "    def save_checkpoint(self, test_loss, model):\n",
    "        self.best_loss = test_loss\n",
    "        torch.save(model.state_dict(), 'results/checkpoint.pt')"
   ]
  },
  {
   "cell_type": "code",
   "execution_count": 39,
   "metadata": {},
   "outputs": [],
   "source": [
    "def evaluate(model, data_loader, criterion, seq_len):\n",
    "    model.eval()\n",
    "    total_loss = 0.0\n",
    "    with torch.no_grad():\n",
    "        for inputs, targets in data_loader:\n",
    "            inputs, targets = inputs.to(device), targets.to(device)\n",
    "            outputs = model(inputs, seq_len)\n",
    "            loss = criterion(outputs, targets)\n",
    "            total_loss += loss.item()\n",
    "    return total_loss / len(data_loader)"
   ]
  },
  {
   "cell_type": "code",
   "execution_count": 40,
   "metadata": {},
   "outputs": [],
   "source": [
    "def train(model, train_loader, test_loader, seq_len, num_epochs, learning_rate, device):\n",
    "    criterion = nn.MSELoss()\n",
    "    optimizer = optim.AdamW(model.parameters(), lr=learning_rate)\n",
    "    scheduler = ReduceLROnPlateau(optimizer, 'min', patience=3, factor=0.5)\n",
    "    early_stopping = EarlyStopping(patience=5, verbose=True)\n",
    "\n",
    "    train_losses = []\n",
    "    test_losses = []\n",
    "\n",
    "    for epoch in range(num_epochs):\n",
    "        tic = time.perf_counter()\n",
    "        model.train()\n",
    "        for inputs, targets in train_loader:\n",
    "            inputs, targets = inputs.to(device), targets.to(device)\n",
    "            \n",
    "            optimizer.zero_grad()\n",
    "            outputs = model(inputs, seq_len)\n",
    "            loss = criterion(outputs, targets)\n",
    "            loss.backward()\n",
    "            nn.utils.clip_grad_norm_(model.parameters(), max_norm=1.0)  # Gradient clipping\n",
    "            optimizer.step()\n",
    "   \n",
    "        train_loss = evaluate(model, train_loader, criterion, seq_len)\n",
    "        test_loss = evaluate(model, test_loader, criterion, seq_len)\n",
    "        scheduler.step(test_loss)\n",
    "\n",
    "        train_losses.append(train_loss)\n",
    "        test_losses.append(test_loss)\n",
    "\n",
    "        toc = time.perf_counter()\n",
    "        sec = round(toc - tic)\n",
    "        print(f'Epoch {epoch + 1:>2}/{num_epochs}, Train Loss: {train_loss:.2f}, Test Loss: {test_loss:.2f}, Time: {str(datetime.timedelta(seconds=sec))}')\n",
    "\n",
    "        early_stopping(test_loss, model)\n",
    "        if early_stopping.early_stop:\n",
    "            print('Early stopping')\n",
    "            break\n",
    "\n",
    "    # Load the best model\n",
    "    model.load_state_dict(torch.load('results/checkpoint.pt'))\n",
    "\n",
    "    return train_losses, test_losses"
   ]
  },
  {
   "cell_type": "markdown",
   "metadata": {},
   "source": [
    "## 4. Initialize and train model"
   ]
  },
  {
   "cell_type": "code",
   "execution_count": 41,
   "metadata": {},
   "outputs": [],
   "source": [
    "input_channels = 1\n",
    "hidden_channels = 64\n",
    "output_channels = 1\n",
    "seq_len = 6\n",
    "kernel_size = 3\n",
    "num_layers = 2\n",
    "batch_size = 1\n",
    "learning_rate = 0.001\n",
    "num_epochs = 20"
   ]
  },
  {
   "cell_type": "code",
   "execution_count": 42,
   "metadata": {},
   "outputs": [],
   "source": [
    "conv_rnn = ConvRNNSeq2Seq(input_channels, hidden_channels, output_channels, kernel_size, num_layers).to(device)"
   ]
  },
  {
   "cell_type": "code",
   "execution_count": 43,
   "metadata": {},
   "outputs": [
    {
     "name": "stdout",
     "output_type": "stream",
     "text": [
      "Epoch  1/20, Train Loss: 1188.55, Test Loss: 1186.22, Time: 0:17:23\n",
      "Epoch  2/20, Train Loss: 1261.16, Test Loss: 1262.16, Time: 0:17:23\n",
      "EarlyStopping counter: 1 out of 5\n",
      "Epoch  3/20, Train Loss: 1124.65, Test Loss: 1107.67, Time: 0:17:22\n",
      "Epoch  4/20, Train Loss: 1140.22, Test Loss: 1092.59, Time: 0:17:19\n",
      "Epoch  5/20, Train Loss: 1101.58, Test Loss: 1086.46, Time: 0:17:19\n",
      "Epoch  6/20, Train Loss: 1112.68, Test Loss: 1094.11, Time: 0:17:18\n",
      "EarlyStopping counter: 1 out of 5\n",
      "Epoch  7/20, Train Loss: 1147.87, Test Loss: 1147.36, Time: 0:17:21\n",
      "EarlyStopping counter: 2 out of 5\n",
      "Epoch  8/20, Train Loss: 1039.30, Test Loss: 1011.54, Time: 0:17:27\n",
      "Epoch  9/20, Train Loss: 1059.60, Test Loss: 1033.19, Time: 0:17:22\n",
      "EarlyStopping counter: 1 out of 5\n",
      "Epoch 10/20, Train Loss: 1052.79, Test Loss: 1028.48, Time: 0:17:20\n",
      "EarlyStopping counter: 2 out of 5\n",
      "Epoch 11/20, Train Loss: 1132.17, Test Loss: 1113.26, Time: 0:17:20\n",
      "EarlyStopping counter: 3 out of 5\n",
      "Epoch 12/20, Train Loss: 1103.35, Test Loss: 1087.01, Time: 0:17:21\n",
      "EarlyStopping counter: 4 out of 5\n",
      "Epoch 13/20, Train Loss: 1024.25, Test Loss: 999.96, Time: 0:17:19\n",
      "Epoch 14/20, Train Loss: 1003.88, Test Loss: 978.27, Time: 0:17:17\n",
      "Epoch 15/20, Train Loss: 979.49, Test Loss: 948.64, Time: 0:17:21\n",
      "Epoch 16/20, Train Loss: 965.42, Test Loss: 916.74, Time: 0:17:22\n",
      "Epoch 17/20, Train Loss: 941.68, Test Loss: 894.87, Time: 0:17:25\n",
      "Epoch 18/20, Train Loss: 938.46, Test Loss: 888.46, Time: 0:17:32\n",
      "Epoch 19/20, Train Loss: 949.28, Test Loss: 898.08, Time: 0:17:36\n",
      "EarlyStopping counter: 1 out of 5\n",
      "Epoch 20/20, Train Loss: 910.23, Test Loss: 861.49, Time: 0:17:31\n"
     ]
    }
   ],
   "source": [
    "train_losses, test_losses = train(conv_rnn, train_loader, test_loader, seq_len, num_epochs, learning_rate, device)"
   ]
  },
  {
   "cell_type": "code",
   "execution_count": 48,
   "metadata": {},
   "outputs": [
    {
     "data": {
      "image/png": "[encoded data removed]",
      "text/plain": [
       "<Figure size 720x288 with 1 Axes>"
      ]
     },
     "metadata": {
      "image/png": {
       "height": 288,
       "width": 633
      },
      "needs_background": "light"
     },
     "output_type": "display_data"
    }
   ],
   "source": [
    "ax = subplots(figsize=(10, 4))[1]\n",
    "ax.plot(train_losses, label='Train Loss')\n",
    "ax.plot(test_losses, label='Test Loss')\n",
    "ax.set_xlabel('Epoch')\n",
    "ax.set_ylabel('MSE Loss')\n",
    "ax.set_title('ConvRNN')\n",
    "plt.legend();"
   ]
  },
  {
   "cell_type": "code",
   "execution_count": 45,
   "metadata": {},
   "outputs": [
    {
     "name": "stdout",
     "output_type": "stream",
     "text": [
      "Test RMSE: 29.3511\n"
     ]
    }
   ],
   "source": [
    "criterion = nn.MSELoss()\n",
    "test_loss = evaluate(conv_rnn, test_loader, criterion, seq_len)\n",
    "print(f'Test RMSE: {test_loss ** 0.5:.4f}')"
   ]
  },
  {
   "cell_type": "code",
   "execution_count": 51,
   "metadata": {},
   "outputs": [],
   "source": [
    "model_name = 'ConvRNN'\n",
    "torch.save(conv_rnn.state_dict(), f'results/{model_name}.pt')\n",
    "np.save(f'results/{model_name}_train_losses.npy', np.array(train_losses))\n",
    "np.save(f'results/{model_name}_test_losses.npy', np.array(test_losses))"
   ]
  },
  {
   "cell_type": "code",
   "execution_count": null,
   "metadata": {},
   "outputs": [],
   "source": []
  }
 ],
 "metadata": {
  "kernelspec": {
   "display_name": "Python 3",
   "language": "python",
   "name": "python3"
  },
  "language_info": {
   "codemirror_mode": {
    "name": "ipython",
    "version": 3
   },
   "file_extension": ".py",
   "mimetype": "text/x-python",
   "name": "python",
   "nbconvert_exporter": "python",
   "pygments_lexer": "ipython3",
   "version": "3.7.3"
  }
 },
 "nbformat": 4,
 "nbformat_minor": 2
}
